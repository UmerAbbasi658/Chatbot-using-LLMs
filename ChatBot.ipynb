{
  "nbformat": 4,
  "nbformat_minor": 0,
  "metadata": {
    "colab": {
      "provenance": []
    },
    "kernelspec": {
      "name": "python3",
      "display_name": "Python 3"
    },
    "language_info": {
      "name": "python"
    }
  },
  "cells": [
    {
      "cell_type": "code",
      "source": [
        "pip install pymupdf"
      ],
      "metadata": {
        "colab": {
          "base_uri": "https://localhost:8080/"
        },
        "id": "78qAhKrgc3dq",
        "outputId": "3ac50030-ad78-4a62-c941-a0238864b4a4"
      },
      "execution_count": 10,
      "outputs": [
        {
          "output_type": "stream",
          "name": "stdout",
          "text": [
            "Collecting pymupdf\n",
            "  Downloading pymupdf-1.26.0-cp39-abi3-manylinux2014_x86_64.manylinux_2_17_x86_64.whl.metadata (3.4 kB)\n",
            "Downloading pymupdf-1.26.0-cp39-abi3-manylinux2014_x86_64.manylinux_2_17_x86_64.whl (24.1 MB)\n",
            "\u001b[2K   \u001b[90m━━━━━━━━━━━━━━━━━━━━━━━━━━━━━━━━━━━━━━━━\u001b[0m \u001b[32m24.1/24.1 MB\u001b[0m \u001b[31m51.8 MB/s\u001b[0m eta \u001b[36m0:00:00\u001b[0m\n",
            "\u001b[?25hInstalling collected packages: pymupdf\n",
            "Successfully installed pymupdf-1.26.0\n"
          ]
        }
      ]
    },
    {
      "cell_type": "code",
      "source": [
        "pip install langchain_community"
      ],
      "metadata": {
        "colab": {
          "base_uri": "https://localhost:8080/"
        },
        "collapsed": true,
        "id": "Z6bCvCSedjZy",
        "outputId": "0e270434-fe9c-43c7-f9f6-94d517a839fe"
      },
      "execution_count": 17,
      "outputs": [
        {
          "output_type": "stream",
          "name": "stdout",
          "text": [
            "Requirement already satisfied: langchain_community in /usr/local/lib/python3.11/dist-packages (0.3.24)\n",
            "Requirement already satisfied: langchain-core<1.0.0,>=0.3.59 in /usr/local/lib/python3.11/dist-packages (from langchain_community) (0.3.63)\n",
            "Requirement already satisfied: langchain<1.0.0,>=0.3.25 in /usr/local/lib/python3.11/dist-packages (from langchain_community) (0.3.25)\n",
            "Requirement already satisfied: SQLAlchemy<3,>=1.4 in /usr/local/lib/python3.11/dist-packages (from langchain_community) (2.0.41)\n",
            "Requirement already satisfied: requests<3,>=2 in /usr/local/lib/python3.11/dist-packages (from langchain_community) (2.32.3)\n",
            "Requirement already satisfied: PyYAML>=5.3 in /usr/local/lib/python3.11/dist-packages (from langchain_community) (6.0.2)\n",
            "Requirement already satisfied: aiohttp<4.0.0,>=3.8.3 in /usr/local/lib/python3.11/dist-packages (from langchain_community) (3.11.15)\n",
            "Requirement already satisfied: tenacity!=8.4.0,<10,>=8.1.0 in /usr/local/lib/python3.11/dist-packages (from langchain_community) (9.1.2)\n",
            "Requirement already satisfied: dataclasses-json<0.7,>=0.5.7 in /usr/local/lib/python3.11/dist-packages (from langchain_community) (0.6.7)\n",
            "Requirement already satisfied: pydantic-settings<3.0.0,>=2.4.0 in /usr/local/lib/python3.11/dist-packages (from langchain_community) (2.9.1)\n",
            "Requirement already satisfied: langsmith<0.4,>=0.1.125 in /usr/local/lib/python3.11/dist-packages (from langchain_community) (0.3.43)\n",
            "Requirement already satisfied: httpx-sse<1.0.0,>=0.4.0 in /usr/local/lib/python3.11/dist-packages (from langchain_community) (0.4.0)\n",
            "Requirement already satisfied: numpy>=1.26.2 in /usr/local/lib/python3.11/dist-packages (from langchain_community) (2.0.2)\n",
            "Requirement already satisfied: aiohappyeyeballs>=2.3.0 in /usr/local/lib/python3.11/dist-packages (from aiohttp<4.0.0,>=3.8.3->langchain_community) (2.6.1)\n",
            "Requirement already satisfied: aiosignal>=1.1.2 in /usr/local/lib/python3.11/dist-packages (from aiohttp<4.0.0,>=3.8.3->langchain_community) (1.3.2)\n",
            "Requirement already satisfied: attrs>=17.3.0 in /usr/local/lib/python3.11/dist-packages (from aiohttp<4.0.0,>=3.8.3->langchain_community) (25.3.0)\n",
            "Requirement already satisfied: frozenlist>=1.1.1 in /usr/local/lib/python3.11/dist-packages (from aiohttp<4.0.0,>=3.8.3->langchain_community) (1.6.0)\n",
            "Requirement already satisfied: multidict<7.0,>=4.5 in /usr/local/lib/python3.11/dist-packages (from aiohttp<4.0.0,>=3.8.3->langchain_community) (6.4.4)\n",
            "Requirement already satisfied: propcache>=0.2.0 in /usr/local/lib/python3.11/dist-packages (from aiohttp<4.0.0,>=3.8.3->langchain_community) (0.3.1)\n",
            "Requirement already satisfied: yarl<2.0,>=1.17.0 in /usr/local/lib/python3.11/dist-packages (from aiohttp<4.0.0,>=3.8.3->langchain_community) (1.20.0)\n",
            "Requirement already satisfied: marshmallow<4.0.0,>=3.18.0 in /usr/local/lib/python3.11/dist-packages (from dataclasses-json<0.7,>=0.5.7->langchain_community) (3.26.1)\n",
            "Requirement already satisfied: typing-inspect<1,>=0.4.0 in /usr/local/lib/python3.11/dist-packages (from dataclasses-json<0.7,>=0.5.7->langchain_community) (0.9.0)\n",
            "Requirement already satisfied: langchain-text-splitters<1.0.0,>=0.3.8 in /usr/local/lib/python3.11/dist-packages (from langchain<1.0.0,>=0.3.25->langchain_community) (0.3.8)\n",
            "Requirement already satisfied: pydantic<3.0.0,>=2.7.4 in /usr/local/lib/python3.11/dist-packages (from langchain<1.0.0,>=0.3.25->langchain_community) (2.11.5)\n",
            "Requirement already satisfied: jsonpatch<2.0,>=1.33 in /usr/local/lib/python3.11/dist-packages (from langchain-core<1.0.0,>=0.3.59->langchain_community) (1.33)\n",
            "Requirement already satisfied: packaging<25,>=23.2 in /usr/local/lib/python3.11/dist-packages (from langchain-core<1.0.0,>=0.3.59->langchain_community) (24.2)\n",
            "Requirement already satisfied: typing-extensions>=4.7 in /usr/local/lib/python3.11/dist-packages (from langchain-core<1.0.0,>=0.3.59->langchain_community) (4.13.2)\n",
            "Requirement already satisfied: httpx<1,>=0.23.0 in /usr/local/lib/python3.11/dist-packages (from langsmith<0.4,>=0.1.125->langchain_community) (0.28.1)\n",
            "Requirement already satisfied: orjson<4.0.0,>=3.9.14 in /usr/local/lib/python3.11/dist-packages (from langsmith<0.4,>=0.1.125->langchain_community) (3.10.18)\n",
            "Requirement already satisfied: requests-toolbelt<2.0.0,>=1.0.0 in /usr/local/lib/python3.11/dist-packages (from langsmith<0.4,>=0.1.125->langchain_community) (1.0.0)\n",
            "Requirement already satisfied: zstandard<0.24.0,>=0.23.0 in /usr/local/lib/python3.11/dist-packages (from langsmith<0.4,>=0.1.125->langchain_community) (0.23.0)\n",
            "Requirement already satisfied: python-dotenv>=0.21.0 in /usr/local/lib/python3.11/dist-packages (from pydantic-settings<3.0.0,>=2.4.0->langchain_community) (1.1.0)\n",
            "Requirement already satisfied: typing-inspection>=0.4.0 in /usr/local/lib/python3.11/dist-packages (from pydantic-settings<3.0.0,>=2.4.0->langchain_community) (0.4.1)\n",
            "Requirement already satisfied: charset-normalizer<4,>=2 in /usr/local/lib/python3.11/dist-packages (from requests<3,>=2->langchain_community) (3.4.2)\n",
            "Requirement already satisfied: idna<4,>=2.5 in /usr/local/lib/python3.11/dist-packages (from requests<3,>=2->langchain_community) (3.10)\n",
            "Requirement already satisfied: urllib3<3,>=1.21.1 in /usr/local/lib/python3.11/dist-packages (from requests<3,>=2->langchain_community) (2.4.0)\n",
            "Requirement already satisfied: certifi>=2017.4.17 in /usr/local/lib/python3.11/dist-packages (from requests<3,>=2->langchain_community) (2025.4.26)\n",
            "Requirement already satisfied: greenlet>=1 in /usr/local/lib/python3.11/dist-packages (from SQLAlchemy<3,>=1.4->langchain_community) (3.2.2)\n",
            "Requirement already satisfied: anyio in /usr/local/lib/python3.11/dist-packages (from httpx<1,>=0.23.0->langsmith<0.4,>=0.1.125->langchain_community) (4.9.0)\n",
            "Requirement already satisfied: httpcore==1.* in /usr/local/lib/python3.11/dist-packages (from httpx<1,>=0.23.0->langsmith<0.4,>=0.1.125->langchain_community) (1.0.9)\n",
            "Requirement already satisfied: h11>=0.16 in /usr/local/lib/python3.11/dist-packages (from httpcore==1.*->httpx<1,>=0.23.0->langsmith<0.4,>=0.1.125->langchain_community) (0.16.0)\n",
            "Requirement already satisfied: jsonpointer>=1.9 in /usr/local/lib/python3.11/dist-packages (from jsonpatch<2.0,>=1.33->langchain-core<1.0.0,>=0.3.59->langchain_community) (3.0.0)\n",
            "Requirement already satisfied: annotated-types>=0.6.0 in /usr/local/lib/python3.11/dist-packages (from pydantic<3.0.0,>=2.7.4->langchain<1.0.0,>=0.3.25->langchain_community) (0.7.0)\n",
            "Requirement already satisfied: pydantic-core==2.33.2 in /usr/local/lib/python3.11/dist-packages (from pydantic<3.0.0,>=2.7.4->langchain<1.0.0,>=0.3.25->langchain_community) (2.33.2)\n",
            "Requirement already satisfied: mypy-extensions>=0.3.0 in /usr/local/lib/python3.11/dist-packages (from typing-inspect<1,>=0.4.0->dataclasses-json<0.7,>=0.5.7->langchain_community) (1.1.0)\n",
            "Requirement already satisfied: sniffio>=1.1 in /usr/local/lib/python3.11/dist-packages (from anyio->httpx<1,>=0.23.0->langsmith<0.4,>=0.1.125->langchain_community) (1.3.1)\n"
          ]
        }
      ]
    },
    {
      "cell_type": "code",
      "source": [
        "!pip install -U langchain langchain-community sentence-transformers"
      ],
      "metadata": {
        "collapsed": true,
        "colab": {
          "base_uri": "https://localhost:8080/"
        },
        "id": "OkiyGbsOfR8A",
        "outputId": "5c9ea3e2-8080-478e-d00d-fa608ca0353a"
      },
      "execution_count": 23,
      "outputs": [
        {
          "output_type": "stream",
          "name": "stdout",
          "text": [
            "Requirement already satisfied: langchain in /usr/local/lib/python3.11/dist-packages (0.3.25)\n",
            "Requirement already satisfied: langchain-community in /usr/local/lib/python3.11/dist-packages (0.3.24)\n",
            "Requirement already satisfied: sentence-transformers in /usr/local/lib/python3.11/dist-packages (4.1.0)\n",
            "Requirement already satisfied: langchain-core<1.0.0,>=0.3.58 in /usr/local/lib/python3.11/dist-packages (from langchain) (0.3.63)\n",
            "Requirement already satisfied: langchain-text-splitters<1.0.0,>=0.3.8 in /usr/local/lib/python3.11/dist-packages (from langchain) (0.3.8)\n",
            "Requirement already satisfied: langsmith<0.4,>=0.1.17 in /usr/local/lib/python3.11/dist-packages (from langchain) (0.3.43)\n",
            "Requirement already satisfied: pydantic<3.0.0,>=2.7.4 in /usr/local/lib/python3.11/dist-packages (from langchain) (2.11.5)\n",
            "Requirement already satisfied: SQLAlchemy<3,>=1.4 in /usr/local/lib/python3.11/dist-packages (from langchain) (2.0.41)\n",
            "Requirement already satisfied: requests<3,>=2 in /usr/local/lib/python3.11/dist-packages (from langchain) (2.32.3)\n",
            "Requirement already satisfied: PyYAML>=5.3 in /usr/local/lib/python3.11/dist-packages (from langchain) (6.0.2)\n",
            "Requirement already satisfied: aiohttp<4.0.0,>=3.8.3 in /usr/local/lib/python3.11/dist-packages (from langchain-community) (3.11.15)\n",
            "Requirement already satisfied: tenacity!=8.4.0,<10,>=8.1.0 in /usr/local/lib/python3.11/dist-packages (from langchain-community) (9.1.2)\n",
            "Requirement already satisfied: dataclasses-json<0.7,>=0.5.7 in /usr/local/lib/python3.11/dist-packages (from langchain-community) (0.6.7)\n",
            "Requirement already satisfied: pydantic-settings<3.0.0,>=2.4.0 in /usr/local/lib/python3.11/dist-packages (from langchain-community) (2.9.1)\n",
            "Requirement already satisfied: httpx-sse<1.0.0,>=0.4.0 in /usr/local/lib/python3.11/dist-packages (from langchain-community) (0.4.0)\n",
            "Requirement already satisfied: numpy>=1.26.2 in /usr/local/lib/python3.11/dist-packages (from langchain-community) (2.0.2)\n",
            "Requirement already satisfied: transformers<5.0.0,>=4.41.0 in /usr/local/lib/python3.11/dist-packages (from sentence-transformers) (4.52.3)\n",
            "Requirement already satisfied: tqdm in /usr/local/lib/python3.11/dist-packages (from sentence-transformers) (4.67.1)\n",
            "Requirement already satisfied: torch>=1.11.0 in /usr/local/lib/python3.11/dist-packages (from sentence-transformers) (2.6.0+cu124)\n",
            "Requirement already satisfied: scikit-learn in /usr/local/lib/python3.11/dist-packages (from sentence-transformers) (1.6.1)\n",
            "Requirement already satisfied: scipy in /usr/local/lib/python3.11/dist-packages (from sentence-transformers) (1.15.3)\n",
            "Requirement already satisfied: huggingface-hub>=0.20.0 in /usr/local/lib/python3.11/dist-packages (from sentence-transformers) (0.32.2)\n",
            "Requirement already satisfied: Pillow in /usr/local/lib/python3.11/dist-packages (from sentence-transformers) (11.2.1)\n",
            "Requirement already satisfied: typing_extensions>=4.5.0 in /usr/local/lib/python3.11/dist-packages (from sentence-transformers) (4.13.2)\n",
            "Requirement already satisfied: aiohappyeyeballs>=2.3.0 in /usr/local/lib/python3.11/dist-packages (from aiohttp<4.0.0,>=3.8.3->langchain-community) (2.6.1)\n",
            "Requirement already satisfied: aiosignal>=1.1.2 in /usr/local/lib/python3.11/dist-packages (from aiohttp<4.0.0,>=3.8.3->langchain-community) (1.3.2)\n",
            "Requirement already satisfied: attrs>=17.3.0 in /usr/local/lib/python3.11/dist-packages (from aiohttp<4.0.0,>=3.8.3->langchain-community) (25.3.0)\n",
            "Requirement already satisfied: frozenlist>=1.1.1 in /usr/local/lib/python3.11/dist-packages (from aiohttp<4.0.0,>=3.8.3->langchain-community) (1.6.0)\n",
            "Requirement already satisfied: multidict<7.0,>=4.5 in /usr/local/lib/python3.11/dist-packages (from aiohttp<4.0.0,>=3.8.3->langchain-community) (6.4.4)\n",
            "Requirement already satisfied: propcache>=0.2.0 in /usr/local/lib/python3.11/dist-packages (from aiohttp<4.0.0,>=3.8.3->langchain-community) (0.3.1)\n",
            "Requirement already satisfied: yarl<2.0,>=1.17.0 in /usr/local/lib/python3.11/dist-packages (from aiohttp<4.0.0,>=3.8.3->langchain-community) (1.20.0)\n",
            "Requirement already satisfied: marshmallow<4.0.0,>=3.18.0 in /usr/local/lib/python3.11/dist-packages (from dataclasses-json<0.7,>=0.5.7->langchain-community) (3.26.1)\n",
            "Requirement already satisfied: typing-inspect<1,>=0.4.0 in /usr/local/lib/python3.11/dist-packages (from dataclasses-json<0.7,>=0.5.7->langchain-community) (0.9.0)\n",
            "Requirement already satisfied: filelock in /usr/local/lib/python3.11/dist-packages (from huggingface-hub>=0.20.0->sentence-transformers) (3.18.0)\n",
            "Requirement already satisfied: fsspec>=2023.5.0 in /usr/local/lib/python3.11/dist-packages (from huggingface-hub>=0.20.0->sentence-transformers) (2025.3.2)\n",
            "Requirement already satisfied: packaging>=20.9 in /usr/local/lib/python3.11/dist-packages (from huggingface-hub>=0.20.0->sentence-transformers) (24.2)\n",
            "Requirement already satisfied: hf-xet<2.0.0,>=1.1.2 in /usr/local/lib/python3.11/dist-packages (from huggingface-hub>=0.20.0->sentence-transformers) (1.1.2)\n",
            "Requirement already satisfied: jsonpatch<2.0,>=1.33 in /usr/local/lib/python3.11/dist-packages (from langchain-core<1.0.0,>=0.3.58->langchain) (1.33)\n",
            "Requirement already satisfied: httpx<1,>=0.23.0 in /usr/local/lib/python3.11/dist-packages (from langsmith<0.4,>=0.1.17->langchain) (0.28.1)\n",
            "Requirement already satisfied: orjson<4.0.0,>=3.9.14 in /usr/local/lib/python3.11/dist-packages (from langsmith<0.4,>=0.1.17->langchain) (3.10.18)\n",
            "Requirement already satisfied: requests-toolbelt<2.0.0,>=1.0.0 in /usr/local/lib/python3.11/dist-packages (from langsmith<0.4,>=0.1.17->langchain) (1.0.0)\n",
            "Requirement already satisfied: zstandard<0.24.0,>=0.23.0 in /usr/local/lib/python3.11/dist-packages (from langsmith<0.4,>=0.1.17->langchain) (0.23.0)\n",
            "Requirement already satisfied: annotated-types>=0.6.0 in /usr/local/lib/python3.11/dist-packages (from pydantic<3.0.0,>=2.7.4->langchain) (0.7.0)\n",
            "Requirement already satisfied: pydantic-core==2.33.2 in /usr/local/lib/python3.11/dist-packages (from pydantic<3.0.0,>=2.7.4->langchain) (2.33.2)\n",
            "Requirement already satisfied: typing-inspection>=0.4.0 in /usr/local/lib/python3.11/dist-packages (from pydantic<3.0.0,>=2.7.4->langchain) (0.4.1)\n",
            "Requirement already satisfied: python-dotenv>=0.21.0 in /usr/local/lib/python3.11/dist-packages (from pydantic-settings<3.0.0,>=2.4.0->langchain-community) (1.1.0)\n",
            "Requirement already satisfied: charset-normalizer<4,>=2 in /usr/local/lib/python3.11/dist-packages (from requests<3,>=2->langchain) (3.4.2)\n",
            "Requirement already satisfied: idna<4,>=2.5 in /usr/local/lib/python3.11/dist-packages (from requests<3,>=2->langchain) (3.10)\n",
            "Requirement already satisfied: urllib3<3,>=1.21.1 in /usr/local/lib/python3.11/dist-packages (from requests<3,>=2->langchain) (2.4.0)\n",
            "Requirement already satisfied: certifi>=2017.4.17 in /usr/local/lib/python3.11/dist-packages (from requests<3,>=2->langchain) (2025.4.26)\n",
            "Requirement already satisfied: greenlet>=1 in /usr/local/lib/python3.11/dist-packages (from SQLAlchemy<3,>=1.4->langchain) (3.2.2)\n",
            "Requirement already satisfied: networkx in /usr/local/lib/python3.11/dist-packages (from torch>=1.11.0->sentence-transformers) (3.5)\n",
            "Requirement already satisfied: jinja2 in /usr/local/lib/python3.11/dist-packages (from torch>=1.11.0->sentence-transformers) (3.1.6)\n",
            "Collecting nvidia-cuda-nvrtc-cu12==12.4.127 (from torch>=1.11.0->sentence-transformers)\n",
            "  Downloading nvidia_cuda_nvrtc_cu12-12.4.127-py3-none-manylinux2014_x86_64.whl.metadata (1.5 kB)\n",
            "Collecting nvidia-cuda-runtime-cu12==12.4.127 (from torch>=1.11.0->sentence-transformers)\n",
            "  Downloading nvidia_cuda_runtime_cu12-12.4.127-py3-none-manylinux2014_x86_64.whl.metadata (1.5 kB)\n",
            "Collecting nvidia-cuda-cupti-cu12==12.4.127 (from torch>=1.11.0->sentence-transformers)\n",
            "  Downloading nvidia_cuda_cupti_cu12-12.4.127-py3-none-manylinux2014_x86_64.whl.metadata (1.6 kB)\n",
            "Collecting nvidia-cudnn-cu12==9.1.0.70 (from torch>=1.11.0->sentence-transformers)\n",
            "  Downloading nvidia_cudnn_cu12-9.1.0.70-py3-none-manylinux2014_x86_64.whl.metadata (1.6 kB)\n",
            "Collecting nvidia-cublas-cu12==12.4.5.8 (from torch>=1.11.0->sentence-transformers)\n",
            "  Downloading nvidia_cublas_cu12-12.4.5.8-py3-none-manylinux2014_x86_64.whl.metadata (1.5 kB)\n",
            "Collecting nvidia-cufft-cu12==11.2.1.3 (from torch>=1.11.0->sentence-transformers)\n",
            "  Downloading nvidia_cufft_cu12-11.2.1.3-py3-none-manylinux2014_x86_64.whl.metadata (1.5 kB)\n",
            "Collecting nvidia-curand-cu12==10.3.5.147 (from torch>=1.11.0->sentence-transformers)\n",
            "  Downloading nvidia_curand_cu12-10.3.5.147-py3-none-manylinux2014_x86_64.whl.metadata (1.5 kB)\n",
            "Collecting nvidia-cusolver-cu12==11.6.1.9 (from torch>=1.11.0->sentence-transformers)\n",
            "  Downloading nvidia_cusolver_cu12-11.6.1.9-py3-none-manylinux2014_x86_64.whl.metadata (1.6 kB)\n",
            "Collecting nvidia-cusparse-cu12==12.3.1.170 (from torch>=1.11.0->sentence-transformers)\n",
            "  Downloading nvidia_cusparse_cu12-12.3.1.170-py3-none-manylinux2014_x86_64.whl.metadata (1.6 kB)\n",
            "Requirement already satisfied: nvidia-cusparselt-cu12==0.6.2 in /usr/local/lib/python3.11/dist-packages (from torch>=1.11.0->sentence-transformers) (0.6.2)\n",
            "Requirement already satisfied: nvidia-nccl-cu12==2.21.5 in /usr/local/lib/python3.11/dist-packages (from torch>=1.11.0->sentence-transformers) (2.21.5)\n",
            "Requirement already satisfied: nvidia-nvtx-cu12==12.4.127 in /usr/local/lib/python3.11/dist-packages (from torch>=1.11.0->sentence-transformers) (12.4.127)\n",
            "Collecting nvidia-nvjitlink-cu12==12.4.127 (from torch>=1.11.0->sentence-transformers)\n",
            "  Downloading nvidia_nvjitlink_cu12-12.4.127-py3-none-manylinux2014_x86_64.whl.metadata (1.5 kB)\n",
            "Requirement already satisfied: triton==3.2.0 in /usr/local/lib/python3.11/dist-packages (from torch>=1.11.0->sentence-transformers) (3.2.0)\n",
            "Requirement already satisfied: sympy==1.13.1 in /usr/local/lib/python3.11/dist-packages (from torch>=1.11.0->sentence-transformers) (1.13.1)\n",
            "Requirement already satisfied: mpmath<1.4,>=1.1.0 in /usr/local/lib/python3.11/dist-packages (from sympy==1.13.1->torch>=1.11.0->sentence-transformers) (1.3.0)\n",
            "Requirement already satisfied: regex!=2019.12.17 in /usr/local/lib/python3.11/dist-packages (from transformers<5.0.0,>=4.41.0->sentence-transformers) (2024.11.6)\n",
            "Requirement already satisfied: tokenizers<0.22,>=0.21 in /usr/local/lib/python3.11/dist-packages (from transformers<5.0.0,>=4.41.0->sentence-transformers) (0.21.1)\n",
            "Requirement already satisfied: safetensors>=0.4.3 in /usr/local/lib/python3.11/dist-packages (from transformers<5.0.0,>=4.41.0->sentence-transformers) (0.5.3)\n",
            "Requirement already satisfied: joblib>=1.2.0 in /usr/local/lib/python3.11/dist-packages (from scikit-learn->sentence-transformers) (1.5.1)\n",
            "Requirement already satisfied: threadpoolctl>=3.1.0 in /usr/local/lib/python3.11/dist-packages (from scikit-learn->sentence-transformers) (3.6.0)\n",
            "Requirement already satisfied: anyio in /usr/local/lib/python3.11/dist-packages (from httpx<1,>=0.23.0->langsmith<0.4,>=0.1.17->langchain) (4.9.0)\n",
            "Requirement already satisfied: httpcore==1.* in /usr/local/lib/python3.11/dist-packages (from httpx<1,>=0.23.0->langsmith<0.4,>=0.1.17->langchain) (1.0.9)\n",
            "Requirement already satisfied: h11>=0.16 in /usr/local/lib/python3.11/dist-packages (from httpcore==1.*->httpx<1,>=0.23.0->langsmith<0.4,>=0.1.17->langchain) (0.16.0)\n",
            "Requirement already satisfied: jsonpointer>=1.9 in /usr/local/lib/python3.11/dist-packages (from jsonpatch<2.0,>=1.33->langchain-core<1.0.0,>=0.3.58->langchain) (3.0.0)\n",
            "Requirement already satisfied: mypy-extensions>=0.3.0 in /usr/local/lib/python3.11/dist-packages (from typing-inspect<1,>=0.4.0->dataclasses-json<0.7,>=0.5.7->langchain-community) (1.1.0)\n",
            "Requirement already satisfied: MarkupSafe>=2.0 in /usr/local/lib/python3.11/dist-packages (from jinja2->torch>=1.11.0->sentence-transformers) (3.0.2)\n",
            "Requirement already satisfied: sniffio>=1.1 in /usr/local/lib/python3.11/dist-packages (from anyio->httpx<1,>=0.23.0->langsmith<0.4,>=0.1.17->langchain) (1.3.1)\n",
            "Downloading nvidia_cublas_cu12-12.4.5.8-py3-none-manylinux2014_x86_64.whl (363.4 MB)\n",
            "\u001b[2K   \u001b[90m━━━━━━━━━━━━━━━━━━━━━━━━━━━━━━━━━━━━━━━━\u001b[0m \u001b[32m363.4/363.4 MB\u001b[0m \u001b[31m4.4 MB/s\u001b[0m eta \u001b[36m0:00:00\u001b[0m\n",
            "\u001b[?25hDownloading nvidia_cuda_cupti_cu12-12.4.127-py3-none-manylinux2014_x86_64.whl (13.8 MB)\n",
            "\u001b[2K   \u001b[90m━━━━━━━━━━━━━━━━━━━━━━━━━━━━━━━━━━━━━━━━\u001b[0m \u001b[32m13.8/13.8 MB\u001b[0m \u001b[31m62.9 MB/s\u001b[0m eta \u001b[36m0:00:00\u001b[0m\n",
            "\u001b[?25hDownloading nvidia_cuda_nvrtc_cu12-12.4.127-py3-none-manylinux2014_x86_64.whl (24.6 MB)\n",
            "\u001b[2K   \u001b[90m━━━━━━━━━━━━━━━━━━━━━━━━━━━━━━━━━━━━━━━━\u001b[0m \u001b[32m24.6/24.6 MB\u001b[0m \u001b[31m33.8 MB/s\u001b[0m eta \u001b[36m0:00:00\u001b[0m\n",
            "\u001b[?25hDownloading nvidia_cuda_runtime_cu12-12.4.127-py3-none-manylinux2014_x86_64.whl (883 kB)\n",
            "\u001b[2K   \u001b[90m━━━━━━━━━━━━━━━━━━━━━━━━━━━━━━━━━━━━━━━━\u001b[0m \u001b[32m883.7/883.7 kB\u001b[0m \u001b[31m40.4 MB/s\u001b[0m eta \u001b[36m0:00:00\u001b[0m\n",
            "\u001b[?25hDownloading nvidia_cudnn_cu12-9.1.0.70-py3-none-manylinux2014_x86_64.whl (664.8 MB)\n",
            "\u001b[2K   \u001b[90m━━━━━━━━━━━━━━━━━━━━━━━━━━━━━━━━━━━━━━━━\u001b[0m \u001b[32m664.8/664.8 MB\u001b[0m \u001b[31m2.8 MB/s\u001b[0m eta \u001b[36m0:00:00\u001b[0m\n",
            "\u001b[?25hDownloading nvidia_cufft_cu12-11.2.1.3-py3-none-manylinux2014_x86_64.whl (211.5 MB)\n",
            "\u001b[2K   \u001b[90m━━━━━━━━━━━━━━━━━━━━━━━━━━━━━━━━━━━━━━━━\u001b[0m \u001b[32m211.5/211.5 MB\u001b[0m \u001b[31m5.9 MB/s\u001b[0m eta \u001b[36m0:00:00\u001b[0m\n",
            "\u001b[?25hDownloading nvidia_curand_cu12-10.3.5.147-py3-none-manylinux2014_x86_64.whl (56.3 MB)\n",
            "\u001b[2K   \u001b[90m━━━━━━━━━━━━━━━━━━━━━━━━━━━━━━━━━━━━━━━━\u001b[0m \u001b[32m56.3/56.3 MB\u001b[0m \u001b[31m12.7 MB/s\u001b[0m eta \u001b[36m0:00:00\u001b[0m\n",
            "\u001b[?25hDownloading nvidia_cusolver_cu12-11.6.1.9-py3-none-manylinux2014_x86_64.whl (127.9 MB)\n",
            "\u001b[2K   \u001b[90m━━━━━━━━━━━━━━━━━━━━━━━━━━━━━━━━━━━━━━━━\u001b[0m \u001b[32m127.9/127.9 MB\u001b[0m \u001b[31m7.7 MB/s\u001b[0m eta \u001b[36m0:00:00\u001b[0m\n",
            "\u001b[?25hDownloading nvidia_cusparse_cu12-12.3.1.170-py3-none-manylinux2014_x86_64.whl (207.5 MB)\n",
            "\u001b[2K   \u001b[90m━━━━━━━━━━━━━━━━━━━━━━━━━━━━━━━━━━━━━━━━\u001b[0m \u001b[32m207.5/207.5 MB\u001b[0m \u001b[31m5.6 MB/s\u001b[0m eta \u001b[36m0:00:00\u001b[0m\n",
            "\u001b[?25hDownloading nvidia_nvjitlink_cu12-12.4.127-py3-none-manylinux2014_x86_64.whl (21.1 MB)\n",
            "\u001b[2K   \u001b[90m━━━━━━━━━━━━━━━━━━━━━━━━━━━━━━━━━━━━━━━━\u001b[0m \u001b[32m21.1/21.1 MB\u001b[0m \u001b[31m75.5 MB/s\u001b[0m eta \u001b[36m0:00:00\u001b[0m\n",
            "\u001b[?25hInstalling collected packages: nvidia-nvjitlink-cu12, nvidia-curand-cu12, nvidia-cufft-cu12, nvidia-cuda-runtime-cu12, nvidia-cuda-nvrtc-cu12, nvidia-cuda-cupti-cu12, nvidia-cublas-cu12, nvidia-cusparse-cu12, nvidia-cudnn-cu12, nvidia-cusolver-cu12\n",
            "  Attempting uninstall: nvidia-nvjitlink-cu12\n",
            "    Found existing installation: nvidia-nvjitlink-cu12 12.5.82\n",
            "    Uninstalling nvidia-nvjitlink-cu12-12.5.82:\n",
            "      Successfully uninstalled nvidia-nvjitlink-cu12-12.5.82\n",
            "  Attempting uninstall: nvidia-curand-cu12\n",
            "    Found existing installation: nvidia-curand-cu12 10.3.6.82\n",
            "    Uninstalling nvidia-curand-cu12-10.3.6.82:\n",
            "      Successfully uninstalled nvidia-curand-cu12-10.3.6.82\n",
            "  Attempting uninstall: nvidia-cufft-cu12\n",
            "    Found existing installation: nvidia-cufft-cu12 11.2.3.61\n",
            "    Uninstalling nvidia-cufft-cu12-11.2.3.61:\n",
            "      Successfully uninstalled nvidia-cufft-cu12-11.2.3.61\n",
            "  Attempting uninstall: nvidia-cuda-runtime-cu12\n",
            "    Found existing installation: nvidia-cuda-runtime-cu12 12.5.82\n",
            "    Uninstalling nvidia-cuda-runtime-cu12-12.5.82:\n",
            "      Successfully uninstalled nvidia-cuda-runtime-cu12-12.5.82\n",
            "  Attempting uninstall: nvidia-cuda-nvrtc-cu12\n",
            "    Found existing installation: nvidia-cuda-nvrtc-cu12 12.5.82\n",
            "    Uninstalling nvidia-cuda-nvrtc-cu12-12.5.82:\n",
            "      Successfully uninstalled nvidia-cuda-nvrtc-cu12-12.5.82\n",
            "  Attempting uninstall: nvidia-cuda-cupti-cu12\n",
            "    Found existing installation: nvidia-cuda-cupti-cu12 12.5.82\n",
            "    Uninstalling nvidia-cuda-cupti-cu12-12.5.82:\n",
            "      Successfully uninstalled nvidia-cuda-cupti-cu12-12.5.82\n",
            "  Attempting uninstall: nvidia-cublas-cu12\n",
            "    Found existing installation: nvidia-cublas-cu12 12.5.3.2\n",
            "    Uninstalling nvidia-cublas-cu12-12.5.3.2:\n",
            "      Successfully uninstalled nvidia-cublas-cu12-12.5.3.2\n",
            "  Attempting uninstall: nvidia-cusparse-cu12\n",
            "    Found existing installation: nvidia-cusparse-cu12 12.5.1.3\n",
            "    Uninstalling nvidia-cusparse-cu12-12.5.1.3:\n",
            "      Successfully uninstalled nvidia-cusparse-cu12-12.5.1.3\n",
            "  Attempting uninstall: nvidia-cudnn-cu12\n",
            "    Found existing installation: nvidia-cudnn-cu12 9.3.0.75\n",
            "    Uninstalling nvidia-cudnn-cu12-9.3.0.75:\n",
            "      Successfully uninstalled nvidia-cudnn-cu12-9.3.0.75\n",
            "  Attempting uninstall: nvidia-cusolver-cu12\n",
            "    Found existing installation: nvidia-cusolver-cu12 11.6.3.83\n",
            "    Uninstalling nvidia-cusolver-cu12-11.6.3.83:\n",
            "      Successfully uninstalled nvidia-cusolver-cu12-11.6.3.83\n",
            "Successfully installed nvidia-cublas-cu12-12.4.5.8 nvidia-cuda-cupti-cu12-12.4.127 nvidia-cuda-nvrtc-cu12-12.4.127 nvidia-cuda-runtime-cu12-12.4.127 nvidia-cudnn-cu12-9.1.0.70 nvidia-cufft-cu12-11.2.1.3 nvidia-curand-cu12-10.3.5.147 nvidia-cusolver-cu12-11.6.1.9 nvidia-cusparse-cu12-12.3.1.170 nvidia-nvjitlink-cu12-12.4.127\n"
          ]
        }
      ]
    },
    {
      "cell_type": "code",
      "source": [
        "pip install chromadb"
      ],
      "metadata": {
        "colab": {
          "base_uri": "https://localhost:8080/",
          "height": 1000
        },
        "collapsed": true,
        "id": "pU47TOOZgcTu",
        "outputId": "92cad438-99cd-451e-d2aa-98eee6518a86"
      },
      "execution_count": 29,
      "outputs": [
        {
          "output_type": "stream",
          "name": "stdout",
          "text": [
            "Collecting chromadb\n",
            "  Downloading chromadb-1.0.12-cp39-abi3-manylinux_2_17_x86_64.manylinux2014_x86_64.whl.metadata (6.9 kB)\n",
            "Requirement already satisfied: build>=1.0.3 in /usr/local/lib/python3.11/dist-packages (from chromadb) (1.2.2.post1)\n",
            "Requirement already satisfied: pydantic>=1.9 in /usr/local/lib/python3.11/dist-packages (from chromadb) (2.11.5)\n",
            "Collecting fastapi==0.115.9 (from chromadb)\n",
            "  Downloading fastapi-0.115.9-py3-none-any.whl.metadata (27 kB)\n",
            "Requirement already satisfied: uvicorn>=0.18.3 in /usr/local/lib/python3.11/dist-packages (from uvicorn[standard]>=0.18.3->chromadb) (0.34.2)\n",
            "Requirement already satisfied: numpy>=1.22.5 in /usr/local/lib/python3.11/dist-packages (from chromadb) (2.0.2)\n",
            "Collecting posthog>=2.4.0 (from chromadb)\n",
            "  Downloading posthog-4.2.0-py2.py3-none-any.whl.metadata (3.0 kB)\n",
            "Requirement already satisfied: typing-extensions>=4.5.0 in /usr/local/lib/python3.11/dist-packages (from chromadb) (4.13.2)\n",
            "Collecting onnxruntime>=1.14.1 (from chromadb)\n",
            "  Downloading onnxruntime-1.22.0-cp311-cp311-manylinux_2_27_x86_64.manylinux_2_28_x86_64.whl.metadata (4.5 kB)\n",
            "Collecting opentelemetry-api>=1.2.0 (from chromadb)\n",
            "  Downloading opentelemetry_api-1.33.1-py3-none-any.whl.metadata (1.6 kB)\n",
            "Collecting opentelemetry-exporter-otlp-proto-grpc>=1.2.0 (from chromadb)\n",
            "  Downloading opentelemetry_exporter_otlp_proto_grpc-1.33.1-py3-none-any.whl.metadata (2.5 kB)\n",
            "Collecting opentelemetry-instrumentation-fastapi>=0.41b0 (from chromadb)\n",
            "  Downloading opentelemetry_instrumentation_fastapi-0.54b1-py3-none-any.whl.metadata (2.2 kB)\n",
            "Collecting opentelemetry-sdk>=1.2.0 (from chromadb)\n",
            "  Downloading opentelemetry_sdk-1.33.1-py3-none-any.whl.metadata (1.6 kB)\n",
            "Requirement already satisfied: tokenizers>=0.13.2 in /usr/local/lib/python3.11/dist-packages (from chromadb) (0.21.1)\n",
            "Collecting pypika>=0.48.9 (from chromadb)\n",
            "  Downloading PyPika-0.48.9.tar.gz (67 kB)\n",
            "\u001b[2K     \u001b[90m━━━━━━━━━━━━━━━━━━━━━━━━━━━━━━━━━━━━━━━━\u001b[0m \u001b[32m67.3/67.3 kB\u001b[0m \u001b[31m3.1 MB/s\u001b[0m eta \u001b[36m0:00:00\u001b[0m\n",
            "\u001b[?25h  Installing build dependencies ... \u001b[?25l\u001b[?25hdone\n",
            "  Getting requirements to build wheel ... \u001b[?25l\u001b[?25hdone\n",
            "  Preparing metadata (pyproject.toml) ... \u001b[?25l\u001b[?25hdone\n",
            "Requirement already satisfied: tqdm>=4.65.0 in /usr/local/lib/python3.11/dist-packages (from chromadb) (4.67.1)\n",
            "Collecting overrides>=7.3.1 (from chromadb)\n",
            "  Downloading overrides-7.7.0-py3-none-any.whl.metadata (5.8 kB)\n",
            "Requirement already satisfied: importlib-resources in /usr/local/lib/python3.11/dist-packages (from chromadb) (6.5.2)\n",
            "Requirement already satisfied: grpcio>=1.58.0 in /usr/local/lib/python3.11/dist-packages (from chromadb) (1.71.0)\n",
            "Collecting bcrypt>=4.0.1 (from chromadb)\n",
            "  Downloading bcrypt-4.3.0-cp39-abi3-manylinux_2_34_x86_64.whl.metadata (10 kB)\n",
            "Requirement already satisfied: typer>=0.9.0 in /usr/local/lib/python3.11/dist-packages (from chromadb) (0.16.0)\n",
            "Collecting kubernetes>=28.1.0 (from chromadb)\n",
            "  Downloading kubernetes-32.0.1-py2.py3-none-any.whl.metadata (1.7 kB)\n",
            "Requirement already satisfied: tenacity>=8.2.3 in /usr/local/lib/python3.11/dist-packages (from chromadb) (9.1.2)\n",
            "Requirement already satisfied: pyyaml>=6.0.0 in /usr/local/lib/python3.11/dist-packages (from chromadb) (6.0.2)\n",
            "Collecting mmh3>=4.0.1 (from chromadb)\n",
            "  Downloading mmh3-5.1.0-cp311-cp311-manylinux_2_5_x86_64.manylinux1_x86_64.manylinux_2_17_x86_64.manylinux2014_x86_64.whl.metadata (16 kB)\n",
            "Requirement already satisfied: orjson>=3.9.12 in /usr/local/lib/python3.11/dist-packages (from chromadb) (3.10.18)\n",
            "Requirement already satisfied: httpx>=0.27.0 in /usr/local/lib/python3.11/dist-packages (from chromadb) (0.28.1)\n",
            "Requirement already satisfied: rich>=10.11.0 in /usr/local/lib/python3.11/dist-packages (from chromadb) (13.9.4)\n",
            "Requirement already satisfied: jsonschema>=4.19.0 in /usr/local/lib/python3.11/dist-packages (from chromadb) (4.24.0)\n",
            "Collecting starlette<0.46.0,>=0.40.0 (from fastapi==0.115.9->chromadb)\n",
            "  Downloading starlette-0.45.3-py3-none-any.whl.metadata (6.3 kB)\n",
            "Requirement already satisfied: packaging>=19.1 in /usr/local/lib/python3.11/dist-packages (from build>=1.0.3->chromadb) (24.2)\n",
            "Requirement already satisfied: pyproject_hooks in /usr/local/lib/python3.11/dist-packages (from build>=1.0.3->chromadb) (1.2.0)\n",
            "Requirement already satisfied: anyio in /usr/local/lib/python3.11/dist-packages (from httpx>=0.27.0->chromadb) (4.9.0)\n",
            "Requirement already satisfied: certifi in /usr/local/lib/python3.11/dist-packages (from httpx>=0.27.0->chromadb) (2025.4.26)\n",
            "Requirement already satisfied: httpcore==1.* in /usr/local/lib/python3.11/dist-packages (from httpx>=0.27.0->chromadb) (1.0.9)\n",
            "Requirement already satisfied: idna in /usr/local/lib/python3.11/dist-packages (from httpx>=0.27.0->chromadb) (3.10)\n",
            "Requirement already satisfied: h11>=0.16 in /usr/local/lib/python3.11/dist-packages (from httpcore==1.*->httpx>=0.27.0->chromadb) (0.16.0)\n",
            "Requirement already satisfied: attrs>=22.2.0 in /usr/local/lib/python3.11/dist-packages (from jsonschema>=4.19.0->chromadb) (25.3.0)\n",
            "Requirement already satisfied: jsonschema-specifications>=2023.03.6 in /usr/local/lib/python3.11/dist-packages (from jsonschema>=4.19.0->chromadb) (2025.4.1)\n",
            "Requirement already satisfied: referencing>=0.28.4 in /usr/local/lib/python3.11/dist-packages (from jsonschema>=4.19.0->chromadb) (0.36.2)\n",
            "Requirement already satisfied: rpds-py>=0.7.1 in /usr/local/lib/python3.11/dist-packages (from jsonschema>=4.19.0->chromadb) (0.25.1)\n",
            "Requirement already satisfied: six>=1.9.0 in /usr/local/lib/python3.11/dist-packages (from kubernetes>=28.1.0->chromadb) (1.17.0)\n",
            "Requirement already satisfied: python-dateutil>=2.5.3 in /usr/local/lib/python3.11/dist-packages (from kubernetes>=28.1.0->chromadb) (2.9.0.post0)\n",
            "Requirement already satisfied: google-auth>=1.0.1 in /usr/local/lib/python3.11/dist-packages (from kubernetes>=28.1.0->chromadb) (2.38.0)\n",
            "Requirement already satisfied: websocket-client!=0.40.0,!=0.41.*,!=0.42.*,>=0.32.0 in /usr/local/lib/python3.11/dist-packages (from kubernetes>=28.1.0->chromadb) (1.8.0)\n",
            "Requirement already satisfied: requests in /usr/local/lib/python3.11/dist-packages (from kubernetes>=28.1.0->chromadb) (2.32.3)\n",
            "Requirement already satisfied: requests-oauthlib in /usr/local/lib/python3.11/dist-packages (from kubernetes>=28.1.0->chromadb) (2.0.0)\n",
            "Requirement already satisfied: oauthlib>=3.2.2 in /usr/local/lib/python3.11/dist-packages (from kubernetes>=28.1.0->chromadb) (3.2.2)\n",
            "Requirement already satisfied: urllib3>=1.24.2 in /usr/local/lib/python3.11/dist-packages (from kubernetes>=28.1.0->chromadb) (2.4.0)\n",
            "Collecting durationpy>=0.7 (from kubernetes>=28.1.0->chromadb)\n",
            "  Downloading durationpy-0.10-py3-none-any.whl.metadata (340 bytes)\n",
            "Collecting coloredlogs (from onnxruntime>=1.14.1->chromadb)\n",
            "  Downloading coloredlogs-15.0.1-py2.py3-none-any.whl.metadata (12 kB)\n",
            "Requirement already satisfied: flatbuffers in /usr/local/lib/python3.11/dist-packages (from onnxruntime>=1.14.1->chromadb) (25.2.10)\n",
            "Requirement already satisfied: protobuf in /usr/local/lib/python3.11/dist-packages (from onnxruntime>=1.14.1->chromadb) (5.29.5)\n",
            "Requirement already satisfied: sympy in /usr/local/lib/python3.11/dist-packages (from onnxruntime>=1.14.1->chromadb) (1.13.1)\n",
            "Collecting deprecated>=1.2.6 (from opentelemetry-api>=1.2.0->chromadb)\n",
            "  Downloading Deprecated-1.2.18-py2.py3-none-any.whl.metadata (5.7 kB)\n",
            "Collecting importlib-metadata<8.7.0,>=6.0 (from opentelemetry-api>=1.2.0->chromadb)\n",
            "  Downloading importlib_metadata-8.6.1-py3-none-any.whl.metadata (4.7 kB)\n",
            "Requirement already satisfied: googleapis-common-protos~=1.52 in /usr/local/lib/python3.11/dist-packages (from opentelemetry-exporter-otlp-proto-grpc>=1.2.0->chromadb) (1.70.0)\n",
            "Collecting opentelemetry-exporter-otlp-proto-common==1.33.1 (from opentelemetry-exporter-otlp-proto-grpc>=1.2.0->chromadb)\n",
            "  Downloading opentelemetry_exporter_otlp_proto_common-1.33.1-py3-none-any.whl.metadata (1.9 kB)\n",
            "Collecting opentelemetry-proto==1.33.1 (from opentelemetry-exporter-otlp-proto-grpc>=1.2.0->chromadb)\n",
            "  Downloading opentelemetry_proto-1.33.1-py3-none-any.whl.metadata (2.4 kB)\n",
            "Collecting opentelemetry-instrumentation-asgi==0.54b1 (from opentelemetry-instrumentation-fastapi>=0.41b0->chromadb)\n",
            "  Downloading opentelemetry_instrumentation_asgi-0.54b1-py3-none-any.whl.metadata (2.1 kB)\n",
            "Collecting opentelemetry-instrumentation==0.54b1 (from opentelemetry-instrumentation-fastapi>=0.41b0->chromadb)\n",
            "  Downloading opentelemetry_instrumentation-0.54b1-py3-none-any.whl.metadata (6.8 kB)\n",
            "Collecting opentelemetry-semantic-conventions==0.54b1 (from opentelemetry-instrumentation-fastapi>=0.41b0->chromadb)\n",
            "  Downloading opentelemetry_semantic_conventions-0.54b1-py3-none-any.whl.metadata (2.5 kB)\n",
            "Collecting opentelemetry-util-http==0.54b1 (from opentelemetry-instrumentation-fastapi>=0.41b0->chromadb)\n",
            "  Downloading opentelemetry_util_http-0.54b1-py3-none-any.whl.metadata (2.6 kB)\n",
            "Requirement already satisfied: wrapt<2.0.0,>=1.0.0 in /usr/local/lib/python3.11/dist-packages (from opentelemetry-instrumentation==0.54b1->opentelemetry-instrumentation-fastapi>=0.41b0->chromadb) (1.17.2)\n",
            "Collecting asgiref~=3.0 (from opentelemetry-instrumentation-asgi==0.54b1->opentelemetry-instrumentation-fastapi>=0.41b0->chromadb)\n",
            "  Downloading asgiref-3.8.1-py3-none-any.whl.metadata (9.3 kB)\n",
            "Collecting backoff>=1.10.0 (from posthog>=2.4.0->chromadb)\n",
            "  Downloading backoff-2.2.1-py3-none-any.whl.metadata (14 kB)\n",
            "Requirement already satisfied: distro>=1.5.0 in /usr/local/lib/python3.11/dist-packages (from posthog>=2.4.0->chromadb) (1.9.0)\n",
            "Requirement already satisfied: annotated-types>=0.6.0 in /usr/local/lib/python3.11/dist-packages (from pydantic>=1.9->chromadb) (0.7.0)\n",
            "Requirement already satisfied: pydantic-core==2.33.2 in /usr/local/lib/python3.11/dist-packages (from pydantic>=1.9->chromadb) (2.33.2)\n",
            "Requirement already satisfied: typing-inspection>=0.4.0 in /usr/local/lib/python3.11/dist-packages (from pydantic>=1.9->chromadb) (0.4.1)\n",
            "Requirement already satisfied: markdown-it-py>=2.2.0 in /usr/local/lib/python3.11/dist-packages (from rich>=10.11.0->chromadb) (3.0.0)\n",
            "Requirement already satisfied: pygments<3.0.0,>=2.13.0 in /usr/local/lib/python3.11/dist-packages (from rich>=10.11.0->chromadb) (2.19.1)\n",
            "Requirement already satisfied: huggingface-hub<1.0,>=0.16.4 in /usr/local/lib/python3.11/dist-packages (from tokenizers>=0.13.2->chromadb) (0.32.2)\n",
            "Requirement already satisfied: click>=8.0.0 in /usr/local/lib/python3.11/dist-packages (from typer>=0.9.0->chromadb) (8.2.1)\n",
            "Requirement already satisfied: shellingham>=1.3.0 in /usr/local/lib/python3.11/dist-packages (from typer>=0.9.0->chromadb) (1.5.4)\n",
            "Collecting httptools>=0.6.3 (from uvicorn[standard]>=0.18.3->chromadb)\n",
            "  Downloading httptools-0.6.4-cp311-cp311-manylinux_2_5_x86_64.manylinux1_x86_64.manylinux_2_17_x86_64.manylinux2014_x86_64.whl.metadata (3.6 kB)\n",
            "Requirement already satisfied: python-dotenv>=0.13 in /usr/local/lib/python3.11/dist-packages (from uvicorn[standard]>=0.18.3->chromadb) (1.1.0)\n",
            "Collecting uvloop!=0.15.0,!=0.15.1,>=0.14.0 (from uvicorn[standard]>=0.18.3->chromadb)\n",
            "  Downloading uvloop-0.21.0-cp311-cp311-manylinux_2_17_x86_64.manylinux2014_x86_64.whl.metadata (4.9 kB)\n",
            "Collecting watchfiles>=0.13 (from uvicorn[standard]>=0.18.3->chromadb)\n",
            "  Downloading watchfiles-1.0.5-cp311-cp311-manylinux_2_17_x86_64.manylinux2014_x86_64.whl.metadata (4.9 kB)\n",
            "Requirement already satisfied: websockets>=10.4 in /usr/local/lib/python3.11/dist-packages (from uvicorn[standard]>=0.18.3->chromadb) (15.0.1)\n",
            "Requirement already satisfied: cachetools<6.0,>=2.0.0 in /usr/local/lib/python3.11/dist-packages (from google-auth>=1.0.1->kubernetes>=28.1.0->chromadb) (5.5.2)\n",
            "Requirement already satisfied: pyasn1-modules>=0.2.1 in /usr/local/lib/python3.11/dist-packages (from google-auth>=1.0.1->kubernetes>=28.1.0->chromadb) (0.4.2)\n",
            "Requirement already satisfied: rsa<5,>=3.1.4 in /usr/local/lib/python3.11/dist-packages (from google-auth>=1.0.1->kubernetes>=28.1.0->chromadb) (4.9.1)\n",
            "Requirement already satisfied: filelock in /usr/local/lib/python3.11/dist-packages (from huggingface-hub<1.0,>=0.16.4->tokenizers>=0.13.2->chromadb) (3.18.0)\n",
            "Requirement already satisfied: fsspec>=2023.5.0 in /usr/local/lib/python3.11/dist-packages (from huggingface-hub<1.0,>=0.16.4->tokenizers>=0.13.2->chromadb) (2025.3.2)\n",
            "Requirement already satisfied: hf-xet<2.0.0,>=1.1.2 in /usr/local/lib/python3.11/dist-packages (from huggingface-hub<1.0,>=0.16.4->tokenizers>=0.13.2->chromadb) (1.1.2)\n",
            "Requirement already satisfied: zipp>=3.20 in /usr/local/lib/python3.11/dist-packages (from importlib-metadata<8.7.0,>=6.0->opentelemetry-api>=1.2.0->chromadb) (3.22.0)\n",
            "Requirement already satisfied: mdurl~=0.1 in /usr/local/lib/python3.11/dist-packages (from markdown-it-py>=2.2.0->rich>=10.11.0->chromadb) (0.1.2)\n",
            "Requirement already satisfied: charset-normalizer<4,>=2 in /usr/local/lib/python3.11/dist-packages (from requests->kubernetes>=28.1.0->chromadb) (3.4.2)\n",
            "Requirement already satisfied: sniffio>=1.1 in /usr/local/lib/python3.11/dist-packages (from anyio->httpx>=0.27.0->chromadb) (1.3.1)\n",
            "Collecting humanfriendly>=9.1 (from coloredlogs->onnxruntime>=1.14.1->chromadb)\n",
            "  Downloading humanfriendly-10.0-py2.py3-none-any.whl.metadata (9.2 kB)\n",
            "Requirement already satisfied: mpmath<1.4,>=1.1.0 in /usr/local/lib/python3.11/dist-packages (from sympy->onnxruntime>=1.14.1->chromadb) (1.3.0)\n",
            "Requirement already satisfied: pyasn1<0.7.0,>=0.6.1 in /usr/local/lib/python3.11/dist-packages (from pyasn1-modules>=0.2.1->google-auth>=1.0.1->kubernetes>=28.1.0->chromadb) (0.6.1)\n",
            "Downloading chromadb-1.0.12-cp39-abi3-manylinux_2_17_x86_64.manylinux2014_x86_64.whl (19.3 MB)\n",
            "\u001b[2K   \u001b[90m━━━━━━━━━━━━━━━━━━━━━━━━━━━━━━━━━━━━━━━━\u001b[0m \u001b[32m19.3/19.3 MB\u001b[0m \u001b[31m66.7 MB/s\u001b[0m eta \u001b[36m0:00:00\u001b[0m\n",
            "\u001b[?25hDownloading fastapi-0.115.9-py3-none-any.whl (94 kB)\n",
            "\u001b[2K   \u001b[90m━━━━━━━━━━━━━━━━━━━━━━━━━━━━━━━━━━━━━━━━\u001b[0m \u001b[32m94.9/94.9 kB\u001b[0m \u001b[31m7.4 MB/s\u001b[0m eta \u001b[36m0:00:00\u001b[0m\n",
            "\u001b[?25hDownloading bcrypt-4.3.0-cp39-abi3-manylinux_2_34_x86_64.whl (284 kB)\n",
            "\u001b[2K   \u001b[90m━━━━━━━━━━━━━━━━━━━━━━━━━━━━━━━━━━━━━━━━\u001b[0m \u001b[32m284.2/284.2 kB\u001b[0m \u001b[31m16.7 MB/s\u001b[0m eta \u001b[36m0:00:00\u001b[0m\n",
            "\u001b[?25hDownloading kubernetes-32.0.1-py2.py3-none-any.whl (2.0 MB)\n",
            "\u001b[2K   \u001b[90m━━━━━━━━━━━━━━━━━━━━━━━━━━━━━━━━━━━━━━━━\u001b[0m \u001b[32m2.0/2.0 MB\u001b[0m \u001b[31m50.3 MB/s\u001b[0m eta \u001b[36m0:00:00\u001b[0m\n",
            "\u001b[?25hDownloading mmh3-5.1.0-cp311-cp311-manylinux_2_5_x86_64.manylinux1_x86_64.manylinux_2_17_x86_64.manylinux2014_x86_64.whl (101 kB)\n",
            "\u001b[2K   \u001b[90m━━━━━━━━━━━━━━━━━━━━━━━━━━━━━━━━━━━━━━━━\u001b[0m \u001b[32m101.6/101.6 kB\u001b[0m \u001b[31m7.3 MB/s\u001b[0m eta \u001b[36m0:00:00\u001b[0m\n",
            "\u001b[?25hDownloading onnxruntime-1.22.0-cp311-cp311-manylinux_2_27_x86_64.manylinux_2_28_x86_64.whl (16.4 MB)\n",
            "\u001b[2K   \u001b[90m━━━━━━━━━━━━━━━━━━━━━━━━━━━━━━━━━━━━━━━━\u001b[0m \u001b[32m16.4/16.4 MB\u001b[0m \u001b[31m50.1 MB/s\u001b[0m eta \u001b[36m0:00:00\u001b[0m\n",
            "\u001b[?25hDownloading opentelemetry_api-1.33.1-py3-none-any.whl (65 kB)\n",
            "\u001b[2K   \u001b[90m━━━━━━━━━━━━━━━━━━━━━━━━━━━━━━━━━━━━━━━━\u001b[0m \u001b[32m65.8/65.8 kB\u001b[0m \u001b[31m4.7 MB/s\u001b[0m eta \u001b[36m0:00:00\u001b[0m\n",
            "\u001b[?25hDownloading opentelemetry_exporter_otlp_proto_grpc-1.33.1-py3-none-any.whl (18 kB)\n",
            "Downloading opentelemetry_exporter_otlp_proto_common-1.33.1-py3-none-any.whl (18 kB)\n",
            "Downloading opentelemetry_proto-1.33.1-py3-none-any.whl (55 kB)\n",
            "\u001b[2K   \u001b[90m━━━━━━━━━━━━━━━━━━━━━━━━━━━━━━━━━━━━━━━━\u001b[0m \u001b[32m55.9/55.9 kB\u001b[0m \u001b[31m4.2 MB/s\u001b[0m eta \u001b[36m0:00:00\u001b[0m\n",
            "\u001b[?25hDownloading opentelemetry_instrumentation_fastapi-0.54b1-py3-none-any.whl (12 kB)\n",
            "Downloading opentelemetry_instrumentation-0.54b1-py3-none-any.whl (31 kB)\n",
            "Downloading opentelemetry_instrumentation_asgi-0.54b1-py3-none-any.whl (16 kB)\n",
            "Downloading opentelemetry_semantic_conventions-0.54b1-py3-none-any.whl (194 kB)\n",
            "\u001b[2K   \u001b[90m━━━━━━━━━━━━━━━━━━━━━━━━━━━━━━━━━━━━━━━━\u001b[0m \u001b[32m194.9/194.9 kB\u001b[0m \u001b[31m13.7 MB/s\u001b[0m eta \u001b[36m0:00:00\u001b[0m\n",
            "\u001b[?25hDownloading opentelemetry_util_http-0.54b1-py3-none-any.whl (7.3 kB)\n",
            "Downloading opentelemetry_sdk-1.33.1-py3-none-any.whl (118 kB)\n",
            "\u001b[2K   \u001b[90m━━━━━━━━━━━━━━━━━━━━━━━━━━━━━━━━━━━━━━━━\u001b[0m \u001b[32m119.0/119.0 kB\u001b[0m \u001b[31m7.6 MB/s\u001b[0m eta \u001b[36m0:00:00\u001b[0m\n",
            "\u001b[?25hDownloading overrides-7.7.0-py3-none-any.whl (17 kB)\n",
            "Downloading posthog-4.2.0-py2.py3-none-any.whl (96 kB)\n",
            "\u001b[2K   \u001b[90m━━━━━━━━━━━━━━━━━━━━━━━━━━━━━━━━━━━━━━━━\u001b[0m \u001b[32m96.7/96.7 kB\u001b[0m \u001b[31m5.6 MB/s\u001b[0m eta \u001b[36m0:00:00\u001b[0m\n",
            "\u001b[?25hDownloading backoff-2.2.1-py3-none-any.whl (15 kB)\n",
            "Downloading Deprecated-1.2.18-py2.py3-none-any.whl (10.0 kB)\n",
            "Downloading durationpy-0.10-py3-none-any.whl (3.9 kB)\n",
            "Downloading httptools-0.6.4-cp311-cp311-manylinux_2_5_x86_64.manylinux1_x86_64.manylinux_2_17_x86_64.manylinux2014_x86_64.whl (459 kB)\n",
            "\u001b[2K   \u001b[90m━━━━━━━━━━━━━━━━━━━━━━━━━━━━━━━━━━━━━━━━\u001b[0m \u001b[32m459.8/459.8 kB\u001b[0m \u001b[31m32.1 MB/s\u001b[0m eta \u001b[36m0:00:00\u001b[0m\n",
            "\u001b[?25hDownloading importlib_metadata-8.6.1-py3-none-any.whl (26 kB)\n",
            "Downloading starlette-0.45.3-py3-none-any.whl (71 kB)\n",
            "\u001b[2K   \u001b[90m━━━━━━━━━━━━━━━━━━━━━━━━━━━━━━━━━━━━━━━━\u001b[0m \u001b[32m71.5/71.5 kB\u001b[0m \u001b[31m4.9 MB/s\u001b[0m eta \u001b[36m0:00:00\u001b[0m\n",
            "\u001b[?25hDownloading uvloop-0.21.0-cp311-cp311-manylinux_2_17_x86_64.manylinux2014_x86_64.whl (4.0 MB)\n",
            "\u001b[2K   \u001b[90m━━━━━━━━━━━━━━━━━━━━━━━━━━━━━━━━━━━━━━━━\u001b[0m \u001b[32m4.0/4.0 MB\u001b[0m \u001b[31m74.7 MB/s\u001b[0m eta \u001b[36m0:00:00\u001b[0m\n",
            "\u001b[?25hDownloading watchfiles-1.0.5-cp311-cp311-manylinux_2_17_x86_64.manylinux2014_x86_64.whl (454 kB)\n",
            "\u001b[2K   \u001b[90m━━━━━━━━━━━━━━━━━━━━━━━━━━━━━━━━━━━━━━━━\u001b[0m \u001b[32m454.8/454.8 kB\u001b[0m \u001b[31m26.0 MB/s\u001b[0m eta \u001b[36m0:00:00\u001b[0m\n",
            "\u001b[?25hDownloading coloredlogs-15.0.1-py2.py3-none-any.whl (46 kB)\n",
            "\u001b[2K   \u001b[90m━━━━━━━━━━━━━━━━━━━━━━━━━━━━━━━━━━━━━━━━\u001b[0m \u001b[32m46.0/46.0 kB\u001b[0m \u001b[31m3.3 MB/s\u001b[0m eta \u001b[36m0:00:00\u001b[0m\n",
            "\u001b[?25hDownloading asgiref-3.8.1-py3-none-any.whl (23 kB)\n",
            "Downloading humanfriendly-10.0-py2.py3-none-any.whl (86 kB)\n",
            "\u001b[2K   \u001b[90m━━━━━━━━━━━━━━━━━━━━━━━━━━━━━━━━━━━━━━━━\u001b[0m \u001b[32m86.8/86.8 kB\u001b[0m \u001b[31m6.4 MB/s\u001b[0m eta \u001b[36m0:00:00\u001b[0m\n",
            "\u001b[?25hBuilding wheels for collected packages: pypika\n",
            "  Building wheel for pypika (pyproject.toml) ... \u001b[?25l\u001b[?25hdone\n",
            "  Created wheel for pypika: filename=pypika-0.48.9-py2.py3-none-any.whl size=53803 sha256=e41599d1596fffa33e586fed9f045bffb28a212f72de737e0f25d5b0da3bd208\n",
            "  Stored in directory: /root/.cache/pip/wheels/a3/01/bd/4c40ceb9d5354160cb186dcc153360f4ab7eb23e2b24daf96d\n",
            "Successfully built pypika\n",
            "Installing collected packages: pypika, durationpy, uvloop, overrides, opentelemetry-util-http, opentelemetry-proto, mmh3, importlib-metadata, humanfriendly, httptools, deprecated, bcrypt, backoff, asgiref, watchfiles, starlette, posthog, opentelemetry-exporter-otlp-proto-common, opentelemetry-api, coloredlogs, opentelemetry-semantic-conventions, onnxruntime, kubernetes, fastapi, opentelemetry-sdk, opentelemetry-instrumentation, opentelemetry-instrumentation-asgi, opentelemetry-exporter-otlp-proto-grpc, opentelemetry-instrumentation-fastapi, chromadb\n",
            "  Attempting uninstall: importlib-metadata\n",
            "    Found existing installation: importlib_metadata 8.7.0\n",
            "    Uninstalling importlib_metadata-8.7.0:\n",
            "      Successfully uninstalled importlib_metadata-8.7.0\n",
            "  Attempting uninstall: starlette\n",
            "    Found existing installation: starlette 0.46.2\n",
            "    Uninstalling starlette-0.46.2:\n",
            "      Successfully uninstalled starlette-0.46.2\n",
            "  Attempting uninstall: fastapi\n",
            "    Found existing installation: fastapi 0.115.12\n",
            "    Uninstalling fastapi-0.115.12:\n",
            "      Successfully uninstalled fastapi-0.115.12\n",
            "Successfully installed asgiref-3.8.1 backoff-2.2.1 bcrypt-4.3.0 chromadb-1.0.12 coloredlogs-15.0.1 deprecated-1.2.18 durationpy-0.10 fastapi-0.115.9 httptools-0.6.4 humanfriendly-10.0 importlib-metadata-8.6.1 kubernetes-32.0.1 mmh3-5.1.0 onnxruntime-1.22.0 opentelemetry-api-1.33.1 opentelemetry-exporter-otlp-proto-common-1.33.1 opentelemetry-exporter-otlp-proto-grpc-1.33.1 opentelemetry-instrumentation-0.54b1 opentelemetry-instrumentation-asgi-0.54b1 opentelemetry-instrumentation-fastapi-0.54b1 opentelemetry-proto-1.33.1 opentelemetry-sdk-1.33.1 opentelemetry-semantic-conventions-0.54b1 opentelemetry-util-http-0.54b1 overrides-7.7.0 posthog-4.2.0 pypika-0.48.9 starlette-0.45.3 uvloop-0.21.0 watchfiles-1.0.5\n"
          ]
        },
        {
          "output_type": "display_data",
          "data": {
            "application/vnd.colab-display-data+json": {
              "pip_warning": {
                "packages": [
                  "importlib_metadata"
                ]
              },
              "id": "ceac2863de0f4a039c360b1e4969cc9f"
            }
          },
          "metadata": {}
        }
      ]
    },
    {
      "cell_type": "code",
      "source": [
        "pip install sentence-transformers"
      ],
      "metadata": {
        "colab": {
          "base_uri": "https://localhost:8080/",
          "height": 1000
        },
        "collapsed": true,
        "id": "nJRK63jCs_dh",
        "outputId": "3b5ab567-4fcc-495a-cace-646f14945038"
      },
      "execution_count": 7,
      "outputs": [
        {
          "output_type": "stream",
          "name": "stdout",
          "text": [
            "Requirement already satisfied: sentence-transformers in /usr/local/lib/python3.11/dist-packages (4.1.0)\n",
            "Requirement already satisfied: transformers<5.0.0,>=4.41.0 in /usr/local/lib/python3.11/dist-packages (from sentence-transformers) (4.52.4)\n",
            "Requirement already satisfied: tqdm in /usr/local/lib/python3.11/dist-packages (from sentence-transformers) (4.67.1)\n",
            "Requirement already satisfied: torch>=1.11.0 in /usr/local/lib/python3.11/dist-packages (from sentence-transformers) (2.6.0+cu124)\n",
            "Requirement already satisfied: scikit-learn in /usr/local/lib/python3.11/dist-packages (from sentence-transformers) (1.6.1)\n",
            "Requirement already satisfied: scipy in /usr/local/lib/python3.11/dist-packages (from sentence-transformers) (1.15.3)\n",
            "Requirement already satisfied: huggingface-hub>=0.20.0 in /usr/local/lib/python3.11/dist-packages (from sentence-transformers) (0.20.3)\n",
            "Requirement already satisfied: Pillow in /usr/local/lib/python3.11/dist-packages (from sentence-transformers) (11.2.1)\n",
            "Requirement already satisfied: typing_extensions>=4.5.0 in /usr/local/lib/python3.11/dist-packages (from sentence-transformers) (4.13.2)\n",
            "Requirement already satisfied: filelock in /usr/local/lib/python3.11/dist-packages (from huggingface-hub>=0.20.0->sentence-transformers) (3.18.0)\n",
            "Requirement already satisfied: fsspec>=2023.5.0 in /usr/local/lib/python3.11/dist-packages (from huggingface-hub>=0.20.0->sentence-transformers) (2025.3.2)\n",
            "Requirement already satisfied: requests in /usr/local/lib/python3.11/dist-packages (from huggingface-hub>=0.20.0->sentence-transformers) (2.32.3)\n",
            "Requirement already satisfied: pyyaml>=5.1 in /usr/local/lib/python3.11/dist-packages (from huggingface-hub>=0.20.0->sentence-transformers) (6.0.2)\n",
            "Requirement already satisfied: packaging>=20.9 in /usr/local/lib/python3.11/dist-packages (from huggingface-hub>=0.20.0->sentence-transformers) (24.2)\n",
            "Requirement already satisfied: networkx in /usr/local/lib/python3.11/dist-packages (from torch>=1.11.0->sentence-transformers) (3.5)\n",
            "Requirement already satisfied: jinja2 in /usr/local/lib/python3.11/dist-packages (from torch>=1.11.0->sentence-transformers) (3.1.6)\n",
            "Requirement already satisfied: nvidia-cuda-nvrtc-cu12==12.4.127 in /usr/local/lib/python3.11/dist-packages (from torch>=1.11.0->sentence-transformers) (12.4.127)\n",
            "Requirement already satisfied: nvidia-cuda-runtime-cu12==12.4.127 in /usr/local/lib/python3.11/dist-packages (from torch>=1.11.0->sentence-transformers) (12.4.127)\n",
            "Requirement already satisfied: nvidia-cuda-cupti-cu12==12.4.127 in /usr/local/lib/python3.11/dist-packages (from torch>=1.11.0->sentence-transformers) (12.4.127)\n",
            "Requirement already satisfied: nvidia-cudnn-cu12==9.1.0.70 in /usr/local/lib/python3.11/dist-packages (from torch>=1.11.0->sentence-transformers) (9.1.0.70)\n",
            "Requirement already satisfied: nvidia-cublas-cu12==12.4.5.8 in /usr/local/lib/python3.11/dist-packages (from torch>=1.11.0->sentence-transformers) (12.4.5.8)\n",
            "Requirement already satisfied: nvidia-cufft-cu12==11.2.1.3 in /usr/local/lib/python3.11/dist-packages (from torch>=1.11.0->sentence-transformers) (11.2.1.3)\n",
            "Requirement already satisfied: nvidia-curand-cu12==10.3.5.147 in /usr/local/lib/python3.11/dist-packages (from torch>=1.11.0->sentence-transformers) (10.3.5.147)\n",
            "Requirement already satisfied: nvidia-cusolver-cu12==11.6.1.9 in /usr/local/lib/python3.11/dist-packages (from torch>=1.11.0->sentence-transformers) (11.6.1.9)\n",
            "Requirement already satisfied: nvidia-cusparse-cu12==12.3.1.170 in /usr/local/lib/python3.11/dist-packages (from torch>=1.11.0->sentence-transformers) (12.3.1.170)\n",
            "Requirement already satisfied: nvidia-cusparselt-cu12==0.6.2 in /usr/local/lib/python3.11/dist-packages (from torch>=1.11.0->sentence-transformers) (0.6.2)\n",
            "Requirement already satisfied: nvidia-nccl-cu12==2.21.5 in /usr/local/lib/python3.11/dist-packages (from torch>=1.11.0->sentence-transformers) (2.21.5)\n",
            "Requirement already satisfied: nvidia-nvtx-cu12==12.4.127 in /usr/local/lib/python3.11/dist-packages (from torch>=1.11.0->sentence-transformers) (12.4.127)\n",
            "Requirement already satisfied: nvidia-nvjitlink-cu12==12.4.127 in /usr/local/lib/python3.11/dist-packages (from torch>=1.11.0->sentence-transformers) (12.4.127)\n",
            "Requirement already satisfied: triton==3.2.0 in /usr/local/lib/python3.11/dist-packages (from torch>=1.11.0->sentence-transformers) (3.2.0)\n",
            "Requirement already satisfied: sympy==1.13.1 in /usr/local/lib/python3.11/dist-packages (from torch>=1.11.0->sentence-transformers) (1.13.1)\n",
            "Requirement already satisfied: mpmath<1.4,>=1.1.0 in /usr/local/lib/python3.11/dist-packages (from sympy==1.13.1->torch>=1.11.0->sentence-transformers) (1.3.0)\n",
            "Collecting huggingface-hub>=0.20.0 (from sentence-transformers)\n",
            "  Downloading huggingface_hub-0.32.4-py3-none-any.whl.metadata (14 kB)\n",
            "Requirement already satisfied: numpy>=1.17 in /usr/local/lib/python3.11/dist-packages (from transformers<5.0.0,>=4.41.0->sentence-transformers) (2.0.2)\n",
            "Requirement already satisfied: regex!=2019.12.17 in /usr/local/lib/python3.11/dist-packages (from transformers<5.0.0,>=4.41.0->sentence-transformers) (2024.11.6)\n",
            "Requirement already satisfied: tokenizers<0.22,>=0.21 in /usr/local/lib/python3.11/dist-packages (from transformers<5.0.0,>=4.41.0->sentence-transformers) (0.21.1)\n",
            "Requirement already satisfied: safetensors>=0.4.3 in /usr/local/lib/python3.11/dist-packages (from transformers<5.0.0,>=4.41.0->sentence-transformers) (0.5.3)\n",
            "Requirement already satisfied: hf-xet<2.0.0,>=1.1.2 in /usr/local/lib/python3.11/dist-packages (from huggingface-hub>=0.20.0->sentence-transformers) (1.1.2)\n",
            "Requirement already satisfied: joblib>=1.2.0 in /usr/local/lib/python3.11/dist-packages (from scikit-learn->sentence-transformers) (1.5.1)\n",
            "Requirement already satisfied: threadpoolctl>=3.1.0 in /usr/local/lib/python3.11/dist-packages (from scikit-learn->sentence-transformers) (3.6.0)\n",
            "Requirement already satisfied: MarkupSafe>=2.0 in /usr/local/lib/python3.11/dist-packages (from jinja2->torch>=1.11.0->sentence-transformers) (3.0.2)\n",
            "Requirement already satisfied: charset-normalizer<4,>=2 in /usr/local/lib/python3.11/dist-packages (from requests->huggingface-hub>=0.20.0->sentence-transformers) (3.4.2)\n",
            "Requirement already satisfied: idna<4,>=2.5 in /usr/local/lib/python3.11/dist-packages (from requests->huggingface-hub>=0.20.0->sentence-transformers) (3.10)\n",
            "Requirement already satisfied: urllib3<3,>=1.21.1 in /usr/local/lib/python3.11/dist-packages (from requests->huggingface-hub>=0.20.0->sentence-transformers) (2.4.0)\n",
            "Requirement already satisfied: certifi>=2017.4.17 in /usr/local/lib/python3.11/dist-packages (from requests->huggingface-hub>=0.20.0->sentence-transformers) (2025.4.26)\n",
            "Downloading huggingface_hub-0.32.4-py3-none-any.whl (512 kB)\n",
            "\u001b[2K   \u001b[90m━━━━━━━━━━━━━━━━━━━━━━━━━━━━━━━━━━━━━━━━\u001b[0m \u001b[32m512.1/512.1 kB\u001b[0m \u001b[31m9.2 MB/s\u001b[0m eta \u001b[36m0:00:00\u001b[0m\n",
            "\u001b[?25hInstalling collected packages: huggingface-hub\n",
            "  Attempting uninstall: huggingface-hub\n",
            "    Found existing installation: huggingface-hub 0.20.3\n",
            "    Uninstalling huggingface-hub-0.20.3:\n",
            "      Successfully uninstalled huggingface-hub-0.20.3\n",
            "Successfully installed huggingface-hub-0.32.4\n"
          ]
        },
        {
          "output_type": "display_data",
          "data": {
            "application/vnd.colab-display-data+json": {
              "pip_warning": {
                "packages": [
                  "huggingface_hub"
                ]
              },
              "id": "45a08b99edae4f9f9f18368608b58941"
            }
          },
          "metadata": {}
        }
      ]
    },
    {
      "cell_type": "code",
      "source": [
        "pip install huggingface_hub==0.20.3"
      ],
      "metadata": {
        "colab": {
          "base_uri": "https://localhost:8080/",
          "height": 630
        },
        "collapsed": true,
        "id": "VmrHQUygssFg",
        "outputId": "8f8441e9-f019-4f6e-e001-113cea53f5e5"
      },
      "execution_count": 37,
      "outputs": [
        {
          "output_type": "stream",
          "name": "stdout",
          "text": [
            "Collecting huggingface_hub==0.20.3\n",
            "  Downloading huggingface_hub-0.20.3-py3-none-any.whl.metadata (12 kB)\n",
            "Requirement already satisfied: filelock in /usr/local/lib/python3.11/dist-packages (from huggingface_hub==0.20.3) (3.18.0)\n",
            "Requirement already satisfied: fsspec>=2023.5.0 in /usr/local/lib/python3.11/dist-packages (from huggingface_hub==0.20.3) (2025.3.2)\n",
            "Requirement already satisfied: requests in /usr/local/lib/python3.11/dist-packages (from huggingface_hub==0.20.3) (2.32.3)\n",
            "Requirement already satisfied: tqdm>=4.42.1 in /usr/local/lib/python3.11/dist-packages (from huggingface_hub==0.20.3) (4.67.1)\n",
            "Requirement already satisfied: pyyaml>=5.1 in /usr/local/lib/python3.11/dist-packages (from huggingface_hub==0.20.3) (6.0.2)\n",
            "Requirement already satisfied: typing-extensions>=3.7.4.3 in /usr/local/lib/python3.11/dist-packages (from huggingface_hub==0.20.3) (4.13.2)\n",
            "Requirement already satisfied: packaging>=20.9 in /usr/local/lib/python3.11/dist-packages (from huggingface_hub==0.20.3) (24.2)\n",
            "Requirement already satisfied: charset-normalizer<4,>=2 in /usr/local/lib/python3.11/dist-packages (from requests->huggingface_hub==0.20.3) (3.4.2)\n",
            "Requirement already satisfied: idna<4,>=2.5 in /usr/local/lib/python3.11/dist-packages (from requests->huggingface_hub==0.20.3) (3.10)\n",
            "Requirement already satisfied: urllib3<3,>=1.21.1 in /usr/local/lib/python3.11/dist-packages (from requests->huggingface_hub==0.20.3) (2.4.0)\n",
            "Requirement already satisfied: certifi>=2017.4.17 in /usr/local/lib/python3.11/dist-packages (from requests->huggingface_hub==0.20.3) (2025.4.26)\n",
            "Downloading huggingface_hub-0.20.3-py3-none-any.whl (330 kB)\n",
            "\u001b[2K   \u001b[90m━━━━━━━━━━━━━━━━━━━━━━━━━━━━━━━━━━━━━━━━\u001b[0m \u001b[32m330.1/330.1 kB\u001b[0m \u001b[31m5.2 MB/s\u001b[0m eta \u001b[36m0:00:00\u001b[0m\n",
            "\u001b[?25hInstalling collected packages: huggingface_hub\n",
            "  Attempting uninstall: huggingface_hub\n",
            "    Found existing installation: huggingface-hub 0.32.2\n",
            "    Uninstalling huggingface-hub-0.32.2:\n",
            "      Successfully uninstalled huggingface-hub-0.32.2\n",
            "\u001b[31mERROR: pip's dependency resolver does not currently take into account all the packages that are installed. This behaviour is the source of the following dependency conflicts.\n",
            "transformers 4.52.4 requires huggingface-hub<1.0,>=0.30.0, but you have huggingface-hub 0.20.3 which is incompatible.\n",
            "peft 0.15.2 requires huggingface_hub>=0.25.0, but you have huggingface-hub 0.20.3 which is incompatible.\n",
            "gradio 5.31.0 requires huggingface-hub>=0.28.1, but you have huggingface-hub 0.20.3 which is incompatible.\n",
            "diffusers 0.33.1 requires huggingface-hub>=0.27.0, but you have huggingface-hub 0.20.3 which is incompatible.\n",
            "accelerate 1.7.0 requires huggingface-hub>=0.21.0, but you have huggingface-hub 0.20.3 which is incompatible.\u001b[0m\u001b[31m\n",
            "\u001b[0mSuccessfully installed huggingface_hub-0.20.3\n"
          ]
        },
        {
          "output_type": "display_data",
          "data": {
            "application/vnd.colab-display-data+json": {
              "pip_warning": {
                "packages": [
                  "huggingface_hub"
                ]
              },
              "id": "7a6c2eaa203e4814b9ef5ca4fb541b7d"
            }
          },
          "metadata": {}
        }
      ]
    },
    {
      "cell_type": "code",
      "source": [
        "pip install langchain-huggingface"
      ],
      "metadata": {
        "collapsed": true,
        "colab": {
          "base_uri": "https://localhost:8080/"
        },
        "id": "KXj0FbJxtddj",
        "outputId": "004e9cbf-ebd1-4308-e1c5-b80c8bb739cd"
      },
      "execution_count": 12,
      "outputs": [
        {
          "output_type": "stream",
          "name": "stdout",
          "text": [
            "Collecting langchain-huggingface\n",
            "  Downloading langchain_huggingface-0.2.0-py3-none-any.whl.metadata (941 bytes)\n",
            "Requirement already satisfied: langchain-core<1.0.0,>=0.3.59 in /usr/local/lib/python3.11/dist-packages (from langchain-huggingface) (0.3.63)\n",
            "Requirement already satisfied: tokenizers>=0.19.1 in /usr/local/lib/python3.11/dist-packages (from langchain-huggingface) (0.21.1)\n",
            "Requirement already satisfied: transformers>=4.39.0 in /usr/local/lib/python3.11/dist-packages (from langchain-huggingface) (4.52.4)\n",
            "Requirement already satisfied: sentence-transformers>=2.6.0 in /usr/local/lib/python3.11/dist-packages (from langchain-huggingface) (4.1.0)\n",
            "Requirement already satisfied: huggingface-hub>=0.30.2 in /usr/local/lib/python3.11/dist-packages (from langchain-huggingface) (0.32.4)\n",
            "Requirement already satisfied: filelock in /usr/local/lib/python3.11/dist-packages (from huggingface-hub>=0.30.2->langchain-huggingface) (3.18.0)\n",
            "Requirement already satisfied: fsspec>=2023.5.0 in /usr/local/lib/python3.11/dist-packages (from huggingface-hub>=0.30.2->langchain-huggingface) (2025.3.2)\n",
            "Requirement already satisfied: packaging>=20.9 in /usr/local/lib/python3.11/dist-packages (from huggingface-hub>=0.30.2->langchain-huggingface) (24.2)\n",
            "Requirement already satisfied: pyyaml>=5.1 in /usr/local/lib/python3.11/dist-packages (from huggingface-hub>=0.30.2->langchain-huggingface) (6.0.2)\n",
            "Requirement already satisfied: requests in /usr/local/lib/python3.11/dist-packages (from huggingface-hub>=0.30.2->langchain-huggingface) (2.32.3)\n",
            "Requirement already satisfied: tqdm>=4.42.1 in /usr/local/lib/python3.11/dist-packages (from huggingface-hub>=0.30.2->langchain-huggingface) (4.67.1)\n",
            "Requirement already satisfied: typing-extensions>=3.7.4.3 in /usr/local/lib/python3.11/dist-packages (from huggingface-hub>=0.30.2->langchain-huggingface) (4.13.2)\n",
            "Requirement already satisfied: hf-xet<2.0.0,>=1.1.2 in /usr/local/lib/python3.11/dist-packages (from huggingface-hub>=0.30.2->langchain-huggingface) (1.1.2)\n",
            "Requirement already satisfied: langsmith<0.4,>=0.1.126 in /usr/local/lib/python3.11/dist-packages (from langchain-core<1.0.0,>=0.3.59->langchain-huggingface) (0.3.43)\n",
            "Requirement already satisfied: tenacity!=8.4.0,<10.0.0,>=8.1.0 in /usr/local/lib/python3.11/dist-packages (from langchain-core<1.0.0,>=0.3.59->langchain-huggingface) (9.1.2)\n",
            "Requirement already satisfied: jsonpatch<2.0,>=1.33 in /usr/local/lib/python3.11/dist-packages (from langchain-core<1.0.0,>=0.3.59->langchain-huggingface) (1.33)\n",
            "Requirement already satisfied: pydantic>=2.7.4 in /usr/local/lib/python3.11/dist-packages (from langchain-core<1.0.0,>=0.3.59->langchain-huggingface) (2.11.5)\n",
            "Requirement already satisfied: torch>=1.11.0 in /usr/local/lib/python3.11/dist-packages (from sentence-transformers>=2.6.0->langchain-huggingface) (2.6.0+cu124)\n",
            "Requirement already satisfied: scikit-learn in /usr/local/lib/python3.11/dist-packages (from sentence-transformers>=2.6.0->langchain-huggingface) (1.6.1)\n",
            "Requirement already satisfied: scipy in /usr/local/lib/python3.11/dist-packages (from sentence-transformers>=2.6.0->langchain-huggingface) (1.15.3)\n",
            "Requirement already satisfied: Pillow in /usr/local/lib/python3.11/dist-packages (from sentence-transformers>=2.6.0->langchain-huggingface) (11.2.1)\n",
            "Requirement already satisfied: numpy>=1.17 in /usr/local/lib/python3.11/dist-packages (from transformers>=4.39.0->langchain-huggingface) (2.0.2)\n",
            "Requirement already satisfied: regex!=2019.12.17 in /usr/local/lib/python3.11/dist-packages (from transformers>=4.39.0->langchain-huggingface) (2024.11.6)\n",
            "Requirement already satisfied: safetensors>=0.4.3 in /usr/local/lib/python3.11/dist-packages (from transformers>=4.39.0->langchain-huggingface) (0.5.3)\n",
            "Requirement already satisfied: jsonpointer>=1.9 in /usr/local/lib/python3.11/dist-packages (from jsonpatch<2.0,>=1.33->langchain-core<1.0.0,>=0.3.59->langchain-huggingface) (3.0.0)\n",
            "Requirement already satisfied: httpx<1,>=0.23.0 in /usr/local/lib/python3.11/dist-packages (from langsmith<0.4,>=0.1.126->langchain-core<1.0.0,>=0.3.59->langchain-huggingface) (0.28.1)\n",
            "Requirement already satisfied: orjson<4.0.0,>=3.9.14 in /usr/local/lib/python3.11/dist-packages (from langsmith<0.4,>=0.1.126->langchain-core<1.0.0,>=0.3.59->langchain-huggingface) (3.10.18)\n",
            "Requirement already satisfied: requests-toolbelt<2.0.0,>=1.0.0 in /usr/local/lib/python3.11/dist-packages (from langsmith<0.4,>=0.1.126->langchain-core<1.0.0,>=0.3.59->langchain-huggingface) (1.0.0)\n",
            "Requirement already satisfied: zstandard<0.24.0,>=0.23.0 in /usr/local/lib/python3.11/dist-packages (from langsmith<0.4,>=0.1.126->langchain-core<1.0.0,>=0.3.59->langchain-huggingface) (0.23.0)\n",
            "Requirement already satisfied: annotated-types>=0.6.0 in /usr/local/lib/python3.11/dist-packages (from pydantic>=2.7.4->langchain-core<1.0.0,>=0.3.59->langchain-huggingface) (0.7.0)\n",
            "Requirement already satisfied: pydantic-core==2.33.2 in /usr/local/lib/python3.11/dist-packages (from pydantic>=2.7.4->langchain-core<1.0.0,>=0.3.59->langchain-huggingface) (2.33.2)\n",
            "Requirement already satisfied: typing-inspection>=0.4.0 in /usr/local/lib/python3.11/dist-packages (from pydantic>=2.7.4->langchain-core<1.0.0,>=0.3.59->langchain-huggingface) (0.4.1)\n",
            "Requirement already satisfied: charset-normalizer<4,>=2 in /usr/local/lib/python3.11/dist-packages (from requests->huggingface-hub>=0.30.2->langchain-huggingface) (3.4.2)\n",
            "Requirement already satisfied: idna<4,>=2.5 in /usr/local/lib/python3.11/dist-packages (from requests->huggingface-hub>=0.30.2->langchain-huggingface) (3.10)\n",
            "Requirement already satisfied: urllib3<3,>=1.21.1 in /usr/local/lib/python3.11/dist-packages (from requests->huggingface-hub>=0.30.2->langchain-huggingface) (2.4.0)\n",
            "Requirement already satisfied: certifi>=2017.4.17 in /usr/local/lib/python3.11/dist-packages (from requests->huggingface-hub>=0.30.2->langchain-huggingface) (2025.4.26)\n",
            "Requirement already satisfied: networkx in /usr/local/lib/python3.11/dist-packages (from torch>=1.11.0->sentence-transformers>=2.6.0->langchain-huggingface) (3.5)\n",
            "Requirement already satisfied: jinja2 in /usr/local/lib/python3.11/dist-packages (from torch>=1.11.0->sentence-transformers>=2.6.0->langchain-huggingface) (3.1.6)\n",
            "Requirement already satisfied: nvidia-cuda-nvrtc-cu12==12.4.127 in /usr/local/lib/python3.11/dist-packages (from torch>=1.11.0->sentence-transformers>=2.6.0->langchain-huggingface) (12.4.127)\n",
            "Requirement already satisfied: nvidia-cuda-runtime-cu12==12.4.127 in /usr/local/lib/python3.11/dist-packages (from torch>=1.11.0->sentence-transformers>=2.6.0->langchain-huggingface) (12.4.127)\n",
            "Requirement already satisfied: nvidia-cuda-cupti-cu12==12.4.127 in /usr/local/lib/python3.11/dist-packages (from torch>=1.11.0->sentence-transformers>=2.6.0->langchain-huggingface) (12.4.127)\n",
            "Requirement already satisfied: nvidia-cudnn-cu12==9.1.0.70 in /usr/local/lib/python3.11/dist-packages (from torch>=1.11.0->sentence-transformers>=2.6.0->langchain-huggingface) (9.1.0.70)\n",
            "Requirement already satisfied: nvidia-cublas-cu12==12.4.5.8 in /usr/local/lib/python3.11/dist-packages (from torch>=1.11.0->sentence-transformers>=2.6.0->langchain-huggingface) (12.4.5.8)\n",
            "Requirement already satisfied: nvidia-cufft-cu12==11.2.1.3 in /usr/local/lib/python3.11/dist-packages (from torch>=1.11.0->sentence-transformers>=2.6.0->langchain-huggingface) (11.2.1.3)\n",
            "Requirement already satisfied: nvidia-curand-cu12==10.3.5.147 in /usr/local/lib/python3.11/dist-packages (from torch>=1.11.0->sentence-transformers>=2.6.0->langchain-huggingface) (10.3.5.147)\n",
            "Requirement already satisfied: nvidia-cusolver-cu12==11.6.1.9 in /usr/local/lib/python3.11/dist-packages (from torch>=1.11.0->sentence-transformers>=2.6.0->langchain-huggingface) (11.6.1.9)\n",
            "Requirement already satisfied: nvidia-cusparse-cu12==12.3.1.170 in /usr/local/lib/python3.11/dist-packages (from torch>=1.11.0->sentence-transformers>=2.6.0->langchain-huggingface) (12.3.1.170)\n",
            "Requirement already satisfied: nvidia-cusparselt-cu12==0.6.2 in /usr/local/lib/python3.11/dist-packages (from torch>=1.11.0->sentence-transformers>=2.6.0->langchain-huggingface) (0.6.2)\n",
            "Requirement already satisfied: nvidia-nccl-cu12==2.21.5 in /usr/local/lib/python3.11/dist-packages (from torch>=1.11.0->sentence-transformers>=2.6.0->langchain-huggingface) (2.21.5)\n",
            "Requirement already satisfied: nvidia-nvtx-cu12==12.4.127 in /usr/local/lib/python3.11/dist-packages (from torch>=1.11.0->sentence-transformers>=2.6.0->langchain-huggingface) (12.4.127)\n",
            "Requirement already satisfied: nvidia-nvjitlink-cu12==12.4.127 in /usr/local/lib/python3.11/dist-packages (from torch>=1.11.0->sentence-transformers>=2.6.0->langchain-huggingface) (12.4.127)\n",
            "Requirement already satisfied: triton==3.2.0 in /usr/local/lib/python3.11/dist-packages (from torch>=1.11.0->sentence-transformers>=2.6.0->langchain-huggingface) (3.2.0)\n",
            "Requirement already satisfied: sympy==1.13.1 in /usr/local/lib/python3.11/dist-packages (from torch>=1.11.0->sentence-transformers>=2.6.0->langchain-huggingface) (1.13.1)\n",
            "Requirement already satisfied: mpmath<1.4,>=1.1.0 in /usr/local/lib/python3.11/dist-packages (from sympy==1.13.1->torch>=1.11.0->sentence-transformers>=2.6.0->langchain-huggingface) (1.3.0)\n",
            "Requirement already satisfied: joblib>=1.2.0 in /usr/local/lib/python3.11/dist-packages (from scikit-learn->sentence-transformers>=2.6.0->langchain-huggingface) (1.5.1)\n",
            "Requirement already satisfied: threadpoolctl>=3.1.0 in /usr/local/lib/python3.11/dist-packages (from scikit-learn->sentence-transformers>=2.6.0->langchain-huggingface) (3.6.0)\n",
            "Requirement already satisfied: anyio in /usr/local/lib/python3.11/dist-packages (from httpx<1,>=0.23.0->langsmith<0.4,>=0.1.126->langchain-core<1.0.0,>=0.3.59->langchain-huggingface) (4.9.0)\n",
            "Requirement already satisfied: httpcore==1.* in /usr/local/lib/python3.11/dist-packages (from httpx<1,>=0.23.0->langsmith<0.4,>=0.1.126->langchain-core<1.0.0,>=0.3.59->langchain-huggingface) (1.0.9)\n",
            "Requirement already satisfied: h11>=0.16 in /usr/local/lib/python3.11/dist-packages (from httpcore==1.*->httpx<1,>=0.23.0->langsmith<0.4,>=0.1.126->langchain-core<1.0.0,>=0.3.59->langchain-huggingface) (0.16.0)\n",
            "Requirement already satisfied: MarkupSafe>=2.0 in /usr/local/lib/python3.11/dist-packages (from jinja2->torch>=1.11.0->sentence-transformers>=2.6.0->langchain-huggingface) (3.0.2)\n",
            "Requirement already satisfied: sniffio>=1.1 in /usr/local/lib/python3.11/dist-packages (from anyio->httpx<1,>=0.23.0->langsmith<0.4,>=0.1.126->langchain-core<1.0.0,>=0.3.59->langchain-huggingface) (1.3.1)\n",
            "Downloading langchain_huggingface-0.2.0-py3-none-any.whl (27 kB)\n",
            "Installing collected packages: langchain-huggingface\n",
            "Successfully installed langchain-huggingface-0.2.0\n"
          ]
        }
      ]
    },
    {
      "cell_type": "code",
      "source": [
        "import os\n",
        "from langchain_community.document_loaders import PyMuPDFLoader\n",
        "from langchain.text_splitter import RecursiveCharacterTextSplitter\n",
        "from langchain_community.embeddings import HuggingFaceEmbeddings\n",
        "from langchain_community.vectorstores import Chroma\n",
        "from langchain_community.llms import HuggingFaceHub\n",
        "from langchain_core.prompts import ChatPromptTemplate,SystemMessagePromptTemplate, HumanMessagePromptTemplate\n",
        "from langchain.chains.combine_documents import create_stuff_documents_chain\n",
        "from langchain.chains import create_retrieval_chain"
      ],
      "metadata": {
        "id": "gyMKZS7-breE"
      },
      "execution_count": 131,
      "outputs": []
    },
    {
      "cell_type": "code",
      "source": [
        "loader = PyMuPDFLoader(\"/Umer's CV.pdf\")\n",
        "doc=loader.load()"
      ],
      "metadata": {
        "id": "6RAnFmNIb3mI"
      },
      "execution_count": 132,
      "outputs": []
    },
    {
      "cell_type": "code",
      "source": [
        "doc[:10]"
      ],
      "metadata": {
        "colab": {
          "base_uri": "https://localhost:8080/"
        },
        "collapsed": true,
        "id": "TZZxbFvtcebA",
        "outputId": "5b039f3b-c38d-48d7-cdcd-f23c282afd9d"
      },
      "execution_count": 133,
      "outputs": [
        {
          "output_type": "execute_result",
          "data": {
            "text/plain": [
              "[Document(metadata={'producer': 'Microsoft® Word 2016', 'creator': 'Microsoft® Word 2016', 'creationdate': '2025-05-27T08:58:42-07:00', 'source': \"/Umer's CV.pdf\", 'file_path': \"/Umer's CV.pdf\", 'total_pages': 2, 'format': 'PDF 1.5', 'title': '', 'author': 'Dell laptop', 'subject': '', 'keywords': '', 'moddate': '2025-05-27T08:58:42-07:00', 'trapped': '', 'modDate': \"D:20250527085842-07'00'\", 'creationDate': \"D:20250527085842-07'00'\", 'page': 0}, page_content='Umer Abbasi \\nabbasiumer658@gmail.com |+923460797406 \\nhttps://www.linkedin.com/in/umer-abbasi-86b538255/ \\nhttps://github.com/UmerAbbasi658 \\n \\nEducation \\nUniversity of Engineering and Technology, Taxila \\nNov 2021 - June 2025 \\nBachelor in Software Engineering – CGPA: 3.14 \\nCourses: Machine Learning, Computer Networking, Database Systems, Operating Systems, Digital Image Processing \\nSkills \\nTechnical skills: Python, Data Science, Machine Learning, Deep Learning, Computer Vision, Natural Lnaguage \\nProcessing, Py-Torch, Flask, Streamlit, WordPress, Html, Css, JavaScript (Intermediate Level), Botpress \\nSoft skills: Public Speaking, Communication, Event Management, Social Media Handling \\nTools: Jupiter Notebook, Google Collab, Kaggle, PyCharm, Microsoft Office, Dev C++, Eclipse \\nExperience \\n \\n \\nArtificial Intelligence Development Intern | Octaloop Technologies \\n8 weeks \\n\\uf0b7 \\nWorked on Generative AI, built different chat bots and web based applications.\\uf020\\n\\uf0b7 \\nLearned the techniques of how to use Large Language Models using Lang chain.\\uf020\\n\\uf0b7 \\nDifferent models from hugging face were deployed and used from making different kind of web based apps.\\uf020\\n\\uf0b7 \\nMade chat bots and integrated on different apps using botpress, zapier and many other platforms.\\uf020\\n \\nMachine Learning Intern | Word2Wonder Startup \\nNov 2023 – April 2024 \\n\\uf0b7 \\nHave used different algorithms to train models and implemented data analysis skills of Web Scraping, Pre- \\nprocessing Techniques.\\uf020\\n\\uf0b7 \\nLearned a lot of things related to Text to Image Generation.\\uf020\\n \\nProdigy InfoTech Intern | Data Science \\nFeb 2023 – March 2023 \\n\\uf0b7 \\nExplored and gained more experience about AI by doing different projects which include Web Scraping, \\nAutomation with Selenium.\\uf020\\n \\n\\uf045ve Bytes internship | AI/ML \\nApril 2024-May 2024 \\n\\uf0b7 Gained Hands-on experience about data analysis techniques, exploratory data analysis, dealing with \\ncategorical values, dealing with missing values, and extracting features from data set.\\uf020\\n\\uf0b7 There were many projects related to that.\\uf020\\n\\uf0b7 Also learnt about deploying apps through flask with hands-on experience with py-charm.\\uf020\\n \\n \\nProjects \\n \\nNetflix Movies Recommendation App \\nIn this project I used basic libraries through which I have developed a web \\nbased app using Flask on py-charm. It was a recommendation system in which data is scrapped from a website and after \\nall the pre-processing, EDA techniques I have developed a recommendation system. This system is having data till 2020, \\nwhich recommend movies and also tell the description about actors, reviews and sentiments of readers. I have used \\nNaïve bayes algorithm in this project and the accuracy of this model was up to the mark. \\n \\nRestaurant Rating Prediction \\nThis project comprises of basic libraries of python, machine learning and all the data \\nanalysis techniques are performed in this project, feature extraction, dealing with null values, categorical values and at \\nthe end predicting the rating of a restaurant. The data set was based upon the restaurants in Bangalore. At the end it was \\ndeployed using flask on py-charm. This project was also performing well after all the processing.'),\n",
              " Document(metadata={'producer': 'Microsoft® Word 2016', 'creator': 'Microsoft® Word 2016', 'creationdate': '2025-05-27T08:58:42-07:00', 'source': \"/Umer's CV.pdf\", 'file_path': \"/Umer's CV.pdf\", 'total_pages': 2, 'format': 'PDF 1.5', 'title': '', 'author': 'Dell laptop', 'subject': '', 'keywords': '', 'moddate': '2025-05-27T08:58:42-07:00', 'trapped': '', 'modDate': \"D:20250527085842-07'00'\", 'creationDate': \"D:20250527085842-07'00'\", 'page': 1}, page_content='Chatbot App \\nDeveloped Chatbot using NLP and LLMs and gained valuable experience by working on these projects, I \\nwas having APIs of hugging face and imported models over from there. Learned how to transform and this bot was \\ntranslating the languages in French. \\n \\nBotpress Projects \\nI used bot press to make chatbots for tourism company and one for a software house it was integrated \\non WhatsApp, Messenger and in that all the information, tasks were performed as bots do. Appointment booking bot was \\nalso integrated and was successfully booking the appointments using zappier. \\n \\nBreast Cancer Prediction Model \\nHere I used python and its basic libraries which are as follow: Numpy Pandas \\nMatplotlib Seaborn SKlearn forhaving KNeighborsClassifier. This model consist of prediction system using \\nKNeighborsClassifier and we found that this model prediction score is more then 90%. \\nPima Indian Diabetes \\nHere I used python and its basic libraries which are as follow: Numpy Pandas Matplotlib \\nSeaborn SKlearn forhaving logistics regression model In this there are different cars and we have to found the \\nlogistics regression relation for those patients who are having diabetes. \\n \\n \\nLeadership \\n \\nDirector of PNA | Quaid-e-Azam Debating Society June 2023 – Present \\n\\uf0b7 Currently leading a team of 20+ people, organizing on campus and online workshops for students \\ninterested in debating\\uf020\\n\\uf0b7 Led Team Logistics and Event Management at Aatish APDC and MUN’2022-23\\uf020\\n\\uf0b7 Organized 2 National Level Virtual British Parliamentary Debates Competitions\\uf020\\n \\n \\n \\nAWARDS & HONORS \\n\\uf0b7 \\nFinance Seceratary Quaid.e.Azam debating Society Uet Taxila (May 2024-2025)\\uf020\\n\\uf0b7 \\nCaptain Uet Basketball Team (May 2024-2025)\\uf020\\n\\uf0b7 \\nOrganizer at Vive la Liberte – Twin cities first ever parliamentary debates competition – 2022\\uf020\\n\\uf0b7 Best Delegate Award – CASEMUN 22.\\uf020\\n\\uf0b7 Best Event Head at Aatish APDC and MUN’2022-23.\\uf020\\n\\uf0b7 Host at Sports Week 2023.\\uf020\\n\\uf0b7 Finalist at UET Taxila Parliamentary debates.\\uf020\\n\\uf0b7 Best sportsman of the year 2021-22 sports week UET Taxila.\\uf020')]"
            ]
          },
          "metadata": {},
          "execution_count": 133
        }
      ]
    },
    {
      "cell_type": "code",
      "source": [
        "split_text=RecursiveCharacterTextSplitter(chunk_size=100,chunk_overlap=0)\n",
        "final_doc=split_text.split_documents(doc)"
      ],
      "metadata": {
        "id": "UQHidNUWeK5O"
      },
      "execution_count": 134,
      "outputs": []
    },
    {
      "cell_type": "code",
      "source": [
        "final_doc"
      ],
      "metadata": {
        "colab": {
          "base_uri": "https://localhost:8080/"
        },
        "collapsed": true,
        "id": "puUnWbEzek7a",
        "outputId": "cf1c9de1-3cb4-42ad-8832-a78c05215e8f"
      },
      "execution_count": 135,
      "outputs": [
        {
          "output_type": "execute_result",
          "data": {
            "text/plain": [
              "[Document(metadata={'producer': 'Microsoft® Word 2016', 'creator': 'Microsoft® Word 2016', 'creationdate': '2025-05-27T08:58:42-07:00', 'source': \"/Umer's CV.pdf\", 'file_path': \"/Umer's CV.pdf\", 'total_pages': 2, 'format': 'PDF 1.5', 'title': '', 'author': 'Dell laptop', 'subject': '', 'keywords': '', 'moddate': '2025-05-27T08:58:42-07:00', 'trapped': '', 'modDate': \"D:20250527085842-07'00'\", 'creationDate': \"D:20250527085842-07'00'\", 'page': 0}, page_content='Umer Abbasi \\nabbasiumer658@gmail.com |+923460797406'),\n",
              " Document(metadata={'producer': 'Microsoft® Word 2016', 'creator': 'Microsoft® Word 2016', 'creationdate': '2025-05-27T08:58:42-07:00', 'source': \"/Umer's CV.pdf\", 'file_path': \"/Umer's CV.pdf\", 'total_pages': 2, 'format': 'PDF 1.5', 'title': '', 'author': 'Dell laptop', 'subject': '', 'keywords': '', 'moddate': '2025-05-27T08:58:42-07:00', 'trapped': '', 'modDate': \"D:20250527085842-07'00'\", 'creationDate': \"D:20250527085842-07'00'\", 'page': 0}, page_content='https://www.linkedin.com/in/umer-abbasi-86b538255/ \\nhttps://github.com/UmerAbbasi658 \\n \\nEducation'),\n",
              " Document(metadata={'producer': 'Microsoft® Word 2016', 'creator': 'Microsoft® Word 2016', 'creationdate': '2025-05-27T08:58:42-07:00', 'source': \"/Umer's CV.pdf\", 'file_path': \"/Umer's CV.pdf\", 'total_pages': 2, 'format': 'PDF 1.5', 'title': '', 'author': 'Dell laptop', 'subject': '', 'keywords': '', 'moddate': '2025-05-27T08:58:42-07:00', 'trapped': '', 'modDate': \"D:20250527085842-07'00'\", 'creationDate': \"D:20250527085842-07'00'\", 'page': 0}, page_content='University of Engineering and Technology, Taxila \\nNov 2021 - June 2025'),\n",
              " Document(metadata={'producer': 'Microsoft® Word 2016', 'creator': 'Microsoft® Word 2016', 'creationdate': '2025-05-27T08:58:42-07:00', 'source': \"/Umer's CV.pdf\", 'file_path': \"/Umer's CV.pdf\", 'total_pages': 2, 'format': 'PDF 1.5', 'title': '', 'author': 'Dell laptop', 'subject': '', 'keywords': '', 'moddate': '2025-05-27T08:58:42-07:00', 'trapped': '', 'modDate': \"D:20250527085842-07'00'\", 'creationDate': \"D:20250527085842-07'00'\", 'page': 0}, page_content='Bachelor in Software Engineering – CGPA: 3.14'),\n",
              " Document(metadata={'producer': 'Microsoft® Word 2016', 'creator': 'Microsoft® Word 2016', 'creationdate': '2025-05-27T08:58:42-07:00', 'source': \"/Umer's CV.pdf\", 'file_path': \"/Umer's CV.pdf\", 'total_pages': 2, 'format': 'PDF 1.5', 'title': '', 'author': 'Dell laptop', 'subject': '', 'keywords': '', 'moddate': '2025-05-27T08:58:42-07:00', 'trapped': '', 'modDate': \"D:20250527085842-07'00'\", 'creationDate': \"D:20250527085842-07'00'\", 'page': 0}, page_content='Courses: Machine Learning, Computer Networking, Database Systems, Operating Systems, Digital Image'),\n",
              " Document(metadata={'producer': 'Microsoft® Word 2016', 'creator': 'Microsoft® Word 2016', 'creationdate': '2025-05-27T08:58:42-07:00', 'source': \"/Umer's CV.pdf\", 'file_path': \"/Umer's CV.pdf\", 'total_pages': 2, 'format': 'PDF 1.5', 'title': '', 'author': 'Dell laptop', 'subject': '', 'keywords': '', 'moddate': '2025-05-27T08:58:42-07:00', 'trapped': '', 'modDate': \"D:20250527085842-07'00'\", 'creationDate': \"D:20250527085842-07'00'\", 'page': 0}, page_content='Processing'),\n",
              " Document(metadata={'producer': 'Microsoft® Word 2016', 'creator': 'Microsoft® Word 2016', 'creationdate': '2025-05-27T08:58:42-07:00', 'source': \"/Umer's CV.pdf\", 'file_path': \"/Umer's CV.pdf\", 'total_pages': 2, 'format': 'PDF 1.5', 'title': '', 'author': 'Dell laptop', 'subject': '', 'keywords': '', 'moddate': '2025-05-27T08:58:42-07:00', 'trapped': '', 'modDate': \"D:20250527085842-07'00'\", 'creationDate': \"D:20250527085842-07'00'\", 'page': 0}, page_content='Skills'),\n",
              " Document(metadata={'producer': 'Microsoft® Word 2016', 'creator': 'Microsoft® Word 2016', 'creationdate': '2025-05-27T08:58:42-07:00', 'source': \"/Umer's CV.pdf\", 'file_path': \"/Umer's CV.pdf\", 'total_pages': 2, 'format': 'PDF 1.5', 'title': '', 'author': 'Dell laptop', 'subject': '', 'keywords': '', 'moddate': '2025-05-27T08:58:42-07:00', 'trapped': '', 'modDate': \"D:20250527085842-07'00'\", 'creationDate': \"D:20250527085842-07'00'\", 'page': 0}, page_content='Technical skills: Python, Data Science, Machine Learning, Deep Learning, Computer Vision, Natural'),\n",
              " Document(metadata={'producer': 'Microsoft® Word 2016', 'creator': 'Microsoft® Word 2016', 'creationdate': '2025-05-27T08:58:42-07:00', 'source': \"/Umer's CV.pdf\", 'file_path': \"/Umer's CV.pdf\", 'total_pages': 2, 'format': 'PDF 1.5', 'title': '', 'author': 'Dell laptop', 'subject': '', 'keywords': '', 'moddate': '2025-05-27T08:58:42-07:00', 'trapped': '', 'modDate': \"D:20250527085842-07'00'\", 'creationDate': \"D:20250527085842-07'00'\", 'page': 0}, page_content='Lnaguage'),\n",
              " Document(metadata={'producer': 'Microsoft® Word 2016', 'creator': 'Microsoft® Word 2016', 'creationdate': '2025-05-27T08:58:42-07:00', 'source': \"/Umer's CV.pdf\", 'file_path': \"/Umer's CV.pdf\", 'total_pages': 2, 'format': 'PDF 1.5', 'title': '', 'author': 'Dell laptop', 'subject': '', 'keywords': '', 'moddate': '2025-05-27T08:58:42-07:00', 'trapped': '', 'modDate': \"D:20250527085842-07'00'\", 'creationDate': \"D:20250527085842-07'00'\", 'page': 0}, page_content='Processing, Py-Torch, Flask, Streamlit, WordPress, Html, Css, JavaScript (Intermediate Level),'),\n",
              " Document(metadata={'producer': 'Microsoft® Word 2016', 'creator': 'Microsoft® Word 2016', 'creationdate': '2025-05-27T08:58:42-07:00', 'source': \"/Umer's CV.pdf\", 'file_path': \"/Umer's CV.pdf\", 'total_pages': 2, 'format': 'PDF 1.5', 'title': '', 'author': 'Dell laptop', 'subject': '', 'keywords': '', 'moddate': '2025-05-27T08:58:42-07:00', 'trapped': '', 'modDate': \"D:20250527085842-07'00'\", 'creationDate': \"D:20250527085842-07'00'\", 'page': 0}, page_content='Botpress'),\n",
              " Document(metadata={'producer': 'Microsoft® Word 2016', 'creator': 'Microsoft® Word 2016', 'creationdate': '2025-05-27T08:58:42-07:00', 'source': \"/Umer's CV.pdf\", 'file_path': \"/Umer's CV.pdf\", 'total_pages': 2, 'format': 'PDF 1.5', 'title': '', 'author': 'Dell laptop', 'subject': '', 'keywords': '', 'moddate': '2025-05-27T08:58:42-07:00', 'trapped': '', 'modDate': \"D:20250527085842-07'00'\", 'creationDate': \"D:20250527085842-07'00'\", 'page': 0}, page_content='Soft skills: Public Speaking, Communication, Event Management, Social Media Handling'),\n",
              " Document(metadata={'producer': 'Microsoft® Word 2016', 'creator': 'Microsoft® Word 2016', 'creationdate': '2025-05-27T08:58:42-07:00', 'source': \"/Umer's CV.pdf\", 'file_path': \"/Umer's CV.pdf\", 'total_pages': 2, 'format': 'PDF 1.5', 'title': '', 'author': 'Dell laptop', 'subject': '', 'keywords': '', 'moddate': '2025-05-27T08:58:42-07:00', 'trapped': '', 'modDate': \"D:20250527085842-07'00'\", 'creationDate': \"D:20250527085842-07'00'\", 'page': 0}, page_content='Tools: Jupiter Notebook, Google Collab, Kaggle, PyCharm, Microsoft Office, Dev C++, Eclipse'),\n",
              " Document(metadata={'producer': 'Microsoft® Word 2016', 'creator': 'Microsoft® Word 2016', 'creationdate': '2025-05-27T08:58:42-07:00', 'source': \"/Umer's CV.pdf\", 'file_path': \"/Umer's CV.pdf\", 'total_pages': 2, 'format': 'PDF 1.5', 'title': '', 'author': 'Dell laptop', 'subject': '', 'keywords': '', 'moddate': '2025-05-27T08:58:42-07:00', 'trapped': '', 'modDate': \"D:20250527085842-07'00'\", 'creationDate': \"D:20250527085842-07'00'\", 'page': 0}, page_content='Experience \\n \\n \\nArtificial Intelligence Development Intern | Octaloop Technologies \\n8 weeks \\n\\uf0b7'),\n",
              " Document(metadata={'producer': 'Microsoft® Word 2016', 'creator': 'Microsoft® Word 2016', 'creationdate': '2025-05-27T08:58:42-07:00', 'source': \"/Umer's CV.pdf\", 'file_path': \"/Umer's CV.pdf\", 'total_pages': 2, 'format': 'PDF 1.5', 'title': '', 'author': 'Dell laptop', 'subject': '', 'keywords': '', 'moddate': '2025-05-27T08:58:42-07:00', 'trapped': '', 'modDate': \"D:20250527085842-07'00'\", 'creationDate': \"D:20250527085842-07'00'\", 'page': 0}, page_content='Worked on Generative AI, built different chat bots and web based applications.\\uf020\\n\\uf0b7'),\n",
              " Document(metadata={'producer': 'Microsoft® Word 2016', 'creator': 'Microsoft® Word 2016', 'creationdate': '2025-05-27T08:58:42-07:00', 'source': \"/Umer's CV.pdf\", 'file_path': \"/Umer's CV.pdf\", 'total_pages': 2, 'format': 'PDF 1.5', 'title': '', 'author': 'Dell laptop', 'subject': '', 'keywords': '', 'moddate': '2025-05-27T08:58:42-07:00', 'trapped': '', 'modDate': \"D:20250527085842-07'00'\", 'creationDate': \"D:20250527085842-07'00'\", 'page': 0}, page_content='Learned the techniques of how to use Large Language Models using Lang chain.\\uf020\\n\\uf0b7'),\n",
              " Document(metadata={'producer': 'Microsoft® Word 2016', 'creator': 'Microsoft® Word 2016', 'creationdate': '2025-05-27T08:58:42-07:00', 'source': \"/Umer's CV.pdf\", 'file_path': \"/Umer's CV.pdf\", 'total_pages': 2, 'format': 'PDF 1.5', 'title': '', 'author': 'Dell laptop', 'subject': '', 'keywords': '', 'moddate': '2025-05-27T08:58:42-07:00', 'trapped': '', 'modDate': \"D:20250527085842-07'00'\", 'creationDate': \"D:20250527085842-07'00'\", 'page': 0}, page_content='Different models from hugging face were deployed and used from making different kind of web based'),\n",
              " Document(metadata={'producer': 'Microsoft® Word 2016', 'creator': 'Microsoft® Word 2016', 'creationdate': '2025-05-27T08:58:42-07:00', 'source': \"/Umer's CV.pdf\", 'file_path': \"/Umer's CV.pdf\", 'total_pages': 2, 'format': 'PDF 1.5', 'title': '', 'author': 'Dell laptop', 'subject': '', 'keywords': '', 'moddate': '2025-05-27T08:58:42-07:00', 'trapped': '', 'modDate': \"D:20250527085842-07'00'\", 'creationDate': \"D:20250527085842-07'00'\", 'page': 0}, page_content='apps.\\uf020'),\n",
              " Document(metadata={'producer': 'Microsoft® Word 2016', 'creator': 'Microsoft® Word 2016', 'creationdate': '2025-05-27T08:58:42-07:00', 'source': \"/Umer's CV.pdf\", 'file_path': \"/Umer's CV.pdf\", 'total_pages': 2, 'format': 'PDF 1.5', 'title': '', 'author': 'Dell laptop', 'subject': '', 'keywords': '', 'moddate': '2025-05-27T08:58:42-07:00', 'trapped': '', 'modDate': \"D:20250527085842-07'00'\", 'creationDate': \"D:20250527085842-07'00'\", 'page': 0}, page_content='\\uf0b7'),\n",
              " Document(metadata={'producer': 'Microsoft® Word 2016', 'creator': 'Microsoft® Word 2016', 'creationdate': '2025-05-27T08:58:42-07:00', 'source': \"/Umer's CV.pdf\", 'file_path': \"/Umer's CV.pdf\", 'total_pages': 2, 'format': 'PDF 1.5', 'title': '', 'author': 'Dell laptop', 'subject': '', 'keywords': '', 'moddate': '2025-05-27T08:58:42-07:00', 'trapped': '', 'modDate': \"D:20250527085842-07'00'\", 'creationDate': \"D:20250527085842-07'00'\", 'page': 0}, page_content='Made chat bots and integrated on different apps using botpress, zapier and many other platforms.\\uf020'),\n",
              " Document(metadata={'producer': 'Microsoft® Word 2016', 'creator': 'Microsoft® Word 2016', 'creationdate': '2025-05-27T08:58:42-07:00', 'source': \"/Umer's CV.pdf\", 'file_path': \"/Umer's CV.pdf\", 'total_pages': 2, 'format': 'PDF 1.5', 'title': '', 'author': 'Dell laptop', 'subject': '', 'keywords': '', 'moddate': '2025-05-27T08:58:42-07:00', 'trapped': '', 'modDate': \"D:20250527085842-07'00'\", 'creationDate': \"D:20250527085842-07'00'\", 'page': 0}, page_content='Machine Learning Intern | Word2Wonder Startup \\nNov 2023 – April 2024 \\n\\uf0b7'),\n",
              " Document(metadata={'producer': 'Microsoft® Word 2016', 'creator': 'Microsoft® Word 2016', 'creationdate': '2025-05-27T08:58:42-07:00', 'source': \"/Umer's CV.pdf\", 'file_path': \"/Umer's CV.pdf\", 'total_pages': 2, 'format': 'PDF 1.5', 'title': '', 'author': 'Dell laptop', 'subject': '', 'keywords': '', 'moddate': '2025-05-27T08:58:42-07:00', 'trapped': '', 'modDate': \"D:20250527085842-07'00'\", 'creationDate': \"D:20250527085842-07'00'\", 'page': 0}, page_content='Have used different algorithms to train models and implemented data analysis skills of Web'),\n",
              " Document(metadata={'producer': 'Microsoft® Word 2016', 'creator': 'Microsoft® Word 2016', 'creationdate': '2025-05-27T08:58:42-07:00', 'source': \"/Umer's CV.pdf\", 'file_path': \"/Umer's CV.pdf\", 'total_pages': 2, 'format': 'PDF 1.5', 'title': '', 'author': 'Dell laptop', 'subject': '', 'keywords': '', 'moddate': '2025-05-27T08:58:42-07:00', 'trapped': '', 'modDate': \"D:20250527085842-07'00'\", 'creationDate': \"D:20250527085842-07'00'\", 'page': 0}, page_content='Scraping, Pre-'),\n",
              " Document(metadata={'producer': 'Microsoft® Word 2016', 'creator': 'Microsoft® Word 2016', 'creationdate': '2025-05-27T08:58:42-07:00', 'source': \"/Umer's CV.pdf\", 'file_path': \"/Umer's CV.pdf\", 'total_pages': 2, 'format': 'PDF 1.5', 'title': '', 'author': 'Dell laptop', 'subject': '', 'keywords': '', 'moddate': '2025-05-27T08:58:42-07:00', 'trapped': '', 'modDate': \"D:20250527085842-07'00'\", 'creationDate': \"D:20250527085842-07'00'\", 'page': 0}, page_content='processing Techniques.\\uf020\\n\\uf0b7 \\nLearned a lot of things related to Text to Image Generation.\\uf020'),\n",
              " Document(metadata={'producer': 'Microsoft® Word 2016', 'creator': 'Microsoft® Word 2016', 'creationdate': '2025-05-27T08:58:42-07:00', 'source': \"/Umer's CV.pdf\", 'file_path': \"/Umer's CV.pdf\", 'total_pages': 2, 'format': 'PDF 1.5', 'title': '', 'author': 'Dell laptop', 'subject': '', 'keywords': '', 'moddate': '2025-05-27T08:58:42-07:00', 'trapped': '', 'modDate': \"D:20250527085842-07'00'\", 'creationDate': \"D:20250527085842-07'00'\", 'page': 0}, page_content='Prodigy InfoTech Intern | Data Science \\nFeb 2023 – March 2023 \\n\\uf0b7'),\n",
              " Document(metadata={'producer': 'Microsoft® Word 2016', 'creator': 'Microsoft® Word 2016', 'creationdate': '2025-05-27T08:58:42-07:00', 'source': \"/Umer's CV.pdf\", 'file_path': \"/Umer's CV.pdf\", 'total_pages': 2, 'format': 'PDF 1.5', 'title': '', 'author': 'Dell laptop', 'subject': '', 'keywords': '', 'moddate': '2025-05-27T08:58:42-07:00', 'trapped': '', 'modDate': \"D:20250527085842-07'00'\", 'creationDate': \"D:20250527085842-07'00'\", 'page': 0}, page_content='Explored and gained more experience about AI by doing different projects which include Web'),\n",
              " Document(metadata={'producer': 'Microsoft® Word 2016', 'creator': 'Microsoft® Word 2016', 'creationdate': '2025-05-27T08:58:42-07:00', 'source': \"/Umer's CV.pdf\", 'file_path': \"/Umer's CV.pdf\", 'total_pages': 2, 'format': 'PDF 1.5', 'title': '', 'author': 'Dell laptop', 'subject': '', 'keywords': '', 'moddate': '2025-05-27T08:58:42-07:00', 'trapped': '', 'modDate': \"D:20250527085842-07'00'\", 'creationDate': \"D:20250527085842-07'00'\", 'page': 0}, page_content='Scraping,'),\n",
              " Document(metadata={'producer': 'Microsoft® Word 2016', 'creator': 'Microsoft® Word 2016', 'creationdate': '2025-05-27T08:58:42-07:00', 'source': \"/Umer's CV.pdf\", 'file_path': \"/Umer's CV.pdf\", 'total_pages': 2, 'format': 'PDF 1.5', 'title': '', 'author': 'Dell laptop', 'subject': '', 'keywords': '', 'moddate': '2025-05-27T08:58:42-07:00', 'trapped': '', 'modDate': \"D:20250527085842-07'00'\", 'creationDate': \"D:20250527085842-07'00'\", 'page': 0}, page_content='Automation with Selenium.\\uf020\\n \\n\\uf045ve Bytes internship | AI/ML \\nApril 2024-May 2024'),\n",
              " Document(metadata={'producer': 'Microsoft® Word 2016', 'creator': 'Microsoft® Word 2016', 'creationdate': '2025-05-27T08:58:42-07:00', 'source': \"/Umer's CV.pdf\", 'file_path': \"/Umer's CV.pdf\", 'total_pages': 2, 'format': 'PDF 1.5', 'title': '', 'author': 'Dell laptop', 'subject': '', 'keywords': '', 'moddate': '2025-05-27T08:58:42-07:00', 'trapped': '', 'modDate': \"D:20250527085842-07'00'\", 'creationDate': \"D:20250527085842-07'00'\", 'page': 0}, page_content='\\uf0b7 Gained Hands-on experience about data analysis techniques, exploratory data analysis, dealing'),\n",
              " Document(metadata={'producer': 'Microsoft® Word 2016', 'creator': 'Microsoft® Word 2016', 'creationdate': '2025-05-27T08:58:42-07:00', 'source': \"/Umer's CV.pdf\", 'file_path': \"/Umer's CV.pdf\", 'total_pages': 2, 'format': 'PDF 1.5', 'title': '', 'author': 'Dell laptop', 'subject': '', 'keywords': '', 'moddate': '2025-05-27T08:58:42-07:00', 'trapped': '', 'modDate': \"D:20250527085842-07'00'\", 'creationDate': \"D:20250527085842-07'00'\", 'page': 0}, page_content='with'),\n",
              " Document(metadata={'producer': 'Microsoft® Word 2016', 'creator': 'Microsoft® Word 2016', 'creationdate': '2025-05-27T08:58:42-07:00', 'source': \"/Umer's CV.pdf\", 'file_path': \"/Umer's CV.pdf\", 'total_pages': 2, 'format': 'PDF 1.5', 'title': '', 'author': 'Dell laptop', 'subject': '', 'keywords': '', 'moddate': '2025-05-27T08:58:42-07:00', 'trapped': '', 'modDate': \"D:20250527085842-07'00'\", 'creationDate': \"D:20250527085842-07'00'\", 'page': 0}, page_content='categorical values, dealing with missing values, and extracting features from data set.\\uf020'),\n",
              " Document(metadata={'producer': 'Microsoft® Word 2016', 'creator': 'Microsoft® Word 2016', 'creationdate': '2025-05-27T08:58:42-07:00', 'source': \"/Umer's CV.pdf\", 'file_path': \"/Umer's CV.pdf\", 'total_pages': 2, 'format': 'PDF 1.5', 'title': '', 'author': 'Dell laptop', 'subject': '', 'keywords': '', 'moddate': '2025-05-27T08:58:42-07:00', 'trapped': '', 'modDate': \"D:20250527085842-07'00'\", 'creationDate': \"D:20250527085842-07'00'\", 'page': 0}, page_content='\\uf0b7 There were many projects related to that.\\uf020'),\n",
              " Document(metadata={'producer': 'Microsoft® Word 2016', 'creator': 'Microsoft® Word 2016', 'creationdate': '2025-05-27T08:58:42-07:00', 'source': \"/Umer's CV.pdf\", 'file_path': \"/Umer's CV.pdf\", 'total_pages': 2, 'format': 'PDF 1.5', 'title': '', 'author': 'Dell laptop', 'subject': '', 'keywords': '', 'moddate': '2025-05-27T08:58:42-07:00', 'trapped': '', 'modDate': \"D:20250527085842-07'00'\", 'creationDate': \"D:20250527085842-07'00'\", 'page': 0}, page_content='\\uf0b7 Also learnt about deploying apps through flask with hands-on experience with py-charm.\\uf020'),\n",
              " Document(metadata={'producer': 'Microsoft® Word 2016', 'creator': 'Microsoft® Word 2016', 'creationdate': '2025-05-27T08:58:42-07:00', 'source': \"/Umer's CV.pdf\", 'file_path': \"/Umer's CV.pdf\", 'total_pages': 2, 'format': 'PDF 1.5', 'title': '', 'author': 'Dell laptop', 'subject': '', 'keywords': '', 'moddate': '2025-05-27T08:58:42-07:00', 'trapped': '', 'modDate': \"D:20250527085842-07'00'\", 'creationDate': \"D:20250527085842-07'00'\", 'page': 0}, page_content='Projects \\n \\nNetflix Movies Recommendation App'),\n",
              " Document(metadata={'producer': 'Microsoft® Word 2016', 'creator': 'Microsoft® Word 2016', 'creationdate': '2025-05-27T08:58:42-07:00', 'source': \"/Umer's CV.pdf\", 'file_path': \"/Umer's CV.pdf\", 'total_pages': 2, 'format': 'PDF 1.5', 'title': '', 'author': 'Dell laptop', 'subject': '', 'keywords': '', 'moddate': '2025-05-27T08:58:42-07:00', 'trapped': '', 'modDate': \"D:20250527085842-07'00'\", 'creationDate': \"D:20250527085842-07'00'\", 'page': 0}, page_content='In this project I used basic libraries through which I have developed a web'),\n",
              " Document(metadata={'producer': 'Microsoft® Word 2016', 'creator': 'Microsoft® Word 2016', 'creationdate': '2025-05-27T08:58:42-07:00', 'source': \"/Umer's CV.pdf\", 'file_path': \"/Umer's CV.pdf\", 'total_pages': 2, 'format': 'PDF 1.5', 'title': '', 'author': 'Dell laptop', 'subject': '', 'keywords': '', 'moddate': '2025-05-27T08:58:42-07:00', 'trapped': '', 'modDate': \"D:20250527085842-07'00'\", 'creationDate': \"D:20250527085842-07'00'\", 'page': 0}, page_content='based app using Flask on py-charm. It was a recommendation system in which data is scrapped from a'),\n",
              " Document(metadata={'producer': 'Microsoft® Word 2016', 'creator': 'Microsoft® Word 2016', 'creationdate': '2025-05-27T08:58:42-07:00', 'source': \"/Umer's CV.pdf\", 'file_path': \"/Umer's CV.pdf\", 'total_pages': 2, 'format': 'PDF 1.5', 'title': '', 'author': 'Dell laptop', 'subject': '', 'keywords': '', 'moddate': '2025-05-27T08:58:42-07:00', 'trapped': '', 'modDate': \"D:20250527085842-07'00'\", 'creationDate': \"D:20250527085842-07'00'\", 'page': 0}, page_content='website and after'),\n",
              " Document(metadata={'producer': 'Microsoft® Word 2016', 'creator': 'Microsoft® Word 2016', 'creationdate': '2025-05-27T08:58:42-07:00', 'source': \"/Umer's CV.pdf\", 'file_path': \"/Umer's CV.pdf\", 'total_pages': 2, 'format': 'PDF 1.5', 'title': '', 'author': 'Dell laptop', 'subject': '', 'keywords': '', 'moddate': '2025-05-27T08:58:42-07:00', 'trapped': '', 'modDate': \"D:20250527085842-07'00'\", 'creationDate': \"D:20250527085842-07'00'\", 'page': 0}, page_content='all the pre-processing, EDA techniques I have developed a recommendation system. This system is'),\n",
              " Document(metadata={'producer': 'Microsoft® Word 2016', 'creator': 'Microsoft® Word 2016', 'creationdate': '2025-05-27T08:58:42-07:00', 'source': \"/Umer's CV.pdf\", 'file_path': \"/Umer's CV.pdf\", 'total_pages': 2, 'format': 'PDF 1.5', 'title': '', 'author': 'Dell laptop', 'subject': '', 'keywords': '', 'moddate': '2025-05-27T08:58:42-07:00', 'trapped': '', 'modDate': \"D:20250527085842-07'00'\", 'creationDate': \"D:20250527085842-07'00'\", 'page': 0}, page_content='having data till 2020,'),\n",
              " Document(metadata={'producer': 'Microsoft® Word 2016', 'creator': 'Microsoft® Word 2016', 'creationdate': '2025-05-27T08:58:42-07:00', 'source': \"/Umer's CV.pdf\", 'file_path': \"/Umer's CV.pdf\", 'total_pages': 2, 'format': 'PDF 1.5', 'title': '', 'author': 'Dell laptop', 'subject': '', 'keywords': '', 'moddate': '2025-05-27T08:58:42-07:00', 'trapped': '', 'modDate': \"D:20250527085842-07'00'\", 'creationDate': \"D:20250527085842-07'00'\", 'page': 0}, page_content='which recommend movies and also tell the description about actors, reviews and sentiments of'),\n",
              " Document(metadata={'producer': 'Microsoft® Word 2016', 'creator': 'Microsoft® Word 2016', 'creationdate': '2025-05-27T08:58:42-07:00', 'source': \"/Umer's CV.pdf\", 'file_path': \"/Umer's CV.pdf\", 'total_pages': 2, 'format': 'PDF 1.5', 'title': '', 'author': 'Dell laptop', 'subject': '', 'keywords': '', 'moddate': '2025-05-27T08:58:42-07:00', 'trapped': '', 'modDate': \"D:20250527085842-07'00'\", 'creationDate': \"D:20250527085842-07'00'\", 'page': 0}, page_content='readers. I have used'),\n",
              " Document(metadata={'producer': 'Microsoft® Word 2016', 'creator': 'Microsoft® Word 2016', 'creationdate': '2025-05-27T08:58:42-07:00', 'source': \"/Umer's CV.pdf\", 'file_path': \"/Umer's CV.pdf\", 'total_pages': 2, 'format': 'PDF 1.5', 'title': '', 'author': 'Dell laptop', 'subject': '', 'keywords': '', 'moddate': '2025-05-27T08:58:42-07:00', 'trapped': '', 'modDate': \"D:20250527085842-07'00'\", 'creationDate': \"D:20250527085842-07'00'\", 'page': 0}, page_content='Naïve bayes algorithm in this project and the accuracy of this model was up to the mark.'),\n",
              " Document(metadata={'producer': 'Microsoft® Word 2016', 'creator': 'Microsoft® Word 2016', 'creationdate': '2025-05-27T08:58:42-07:00', 'source': \"/Umer's CV.pdf\", 'file_path': \"/Umer's CV.pdf\", 'total_pages': 2, 'format': 'PDF 1.5', 'title': '', 'author': 'Dell laptop', 'subject': '', 'keywords': '', 'moddate': '2025-05-27T08:58:42-07:00', 'trapped': '', 'modDate': \"D:20250527085842-07'00'\", 'creationDate': \"D:20250527085842-07'00'\", 'page': 0}, page_content='Restaurant Rating Prediction'),\n",
              " Document(metadata={'producer': 'Microsoft® Word 2016', 'creator': 'Microsoft® Word 2016', 'creationdate': '2025-05-27T08:58:42-07:00', 'source': \"/Umer's CV.pdf\", 'file_path': \"/Umer's CV.pdf\", 'total_pages': 2, 'format': 'PDF 1.5', 'title': '', 'author': 'Dell laptop', 'subject': '', 'keywords': '', 'moddate': '2025-05-27T08:58:42-07:00', 'trapped': '', 'modDate': \"D:20250527085842-07'00'\", 'creationDate': \"D:20250527085842-07'00'\", 'page': 0}, page_content='This project comprises of basic libraries of python, machine learning and all the data'),\n",
              " Document(metadata={'producer': 'Microsoft® Word 2016', 'creator': 'Microsoft® Word 2016', 'creationdate': '2025-05-27T08:58:42-07:00', 'source': \"/Umer's CV.pdf\", 'file_path': \"/Umer's CV.pdf\", 'total_pages': 2, 'format': 'PDF 1.5', 'title': '', 'author': 'Dell laptop', 'subject': '', 'keywords': '', 'moddate': '2025-05-27T08:58:42-07:00', 'trapped': '', 'modDate': \"D:20250527085842-07'00'\", 'creationDate': \"D:20250527085842-07'00'\", 'page': 0}, page_content='analysis techniques are performed in this project, feature extraction, dealing with null values,'),\n",
              " Document(metadata={'producer': 'Microsoft® Word 2016', 'creator': 'Microsoft® Word 2016', 'creationdate': '2025-05-27T08:58:42-07:00', 'source': \"/Umer's CV.pdf\", 'file_path': \"/Umer's CV.pdf\", 'total_pages': 2, 'format': 'PDF 1.5', 'title': '', 'author': 'Dell laptop', 'subject': '', 'keywords': '', 'moddate': '2025-05-27T08:58:42-07:00', 'trapped': '', 'modDate': \"D:20250527085842-07'00'\", 'creationDate': \"D:20250527085842-07'00'\", 'page': 0}, page_content='categorical values and at'),\n",
              " Document(metadata={'producer': 'Microsoft® Word 2016', 'creator': 'Microsoft® Word 2016', 'creationdate': '2025-05-27T08:58:42-07:00', 'source': \"/Umer's CV.pdf\", 'file_path': \"/Umer's CV.pdf\", 'total_pages': 2, 'format': 'PDF 1.5', 'title': '', 'author': 'Dell laptop', 'subject': '', 'keywords': '', 'moddate': '2025-05-27T08:58:42-07:00', 'trapped': '', 'modDate': \"D:20250527085842-07'00'\", 'creationDate': \"D:20250527085842-07'00'\", 'page': 0}, page_content='the end predicting the rating of a restaurant. The data set was based upon the restaurants in'),\n",
              " Document(metadata={'producer': 'Microsoft® Word 2016', 'creator': 'Microsoft® Word 2016', 'creationdate': '2025-05-27T08:58:42-07:00', 'source': \"/Umer's CV.pdf\", 'file_path': \"/Umer's CV.pdf\", 'total_pages': 2, 'format': 'PDF 1.5', 'title': '', 'author': 'Dell laptop', 'subject': '', 'keywords': '', 'moddate': '2025-05-27T08:58:42-07:00', 'trapped': '', 'modDate': \"D:20250527085842-07'00'\", 'creationDate': \"D:20250527085842-07'00'\", 'page': 0}, page_content='Bangalore. At the end it was'),\n",
              " Document(metadata={'producer': 'Microsoft® Word 2016', 'creator': 'Microsoft® Word 2016', 'creationdate': '2025-05-27T08:58:42-07:00', 'source': \"/Umer's CV.pdf\", 'file_path': \"/Umer's CV.pdf\", 'total_pages': 2, 'format': 'PDF 1.5', 'title': '', 'author': 'Dell laptop', 'subject': '', 'keywords': '', 'moddate': '2025-05-27T08:58:42-07:00', 'trapped': '', 'modDate': \"D:20250527085842-07'00'\", 'creationDate': \"D:20250527085842-07'00'\", 'page': 0}, page_content='deployed using flask on py-charm. This project was also performing well after all the processing.'),\n",
              " Document(metadata={'producer': 'Microsoft® Word 2016', 'creator': 'Microsoft® Word 2016', 'creationdate': '2025-05-27T08:58:42-07:00', 'source': \"/Umer's CV.pdf\", 'file_path': \"/Umer's CV.pdf\", 'total_pages': 2, 'format': 'PDF 1.5', 'title': '', 'author': 'Dell laptop', 'subject': '', 'keywords': '', 'moddate': '2025-05-27T08:58:42-07:00', 'trapped': '', 'modDate': \"D:20250527085842-07'00'\", 'creationDate': \"D:20250527085842-07'00'\", 'page': 1}, page_content='Chatbot App'),\n",
              " Document(metadata={'producer': 'Microsoft® Word 2016', 'creator': 'Microsoft® Word 2016', 'creationdate': '2025-05-27T08:58:42-07:00', 'source': \"/Umer's CV.pdf\", 'file_path': \"/Umer's CV.pdf\", 'total_pages': 2, 'format': 'PDF 1.5', 'title': '', 'author': 'Dell laptop', 'subject': '', 'keywords': '', 'moddate': '2025-05-27T08:58:42-07:00', 'trapped': '', 'modDate': \"D:20250527085842-07'00'\", 'creationDate': \"D:20250527085842-07'00'\", 'page': 1}, page_content='Developed Chatbot using NLP and LLMs and gained valuable experience by working on these projects, I'),\n",
              " Document(metadata={'producer': 'Microsoft® Word 2016', 'creator': 'Microsoft® Word 2016', 'creationdate': '2025-05-27T08:58:42-07:00', 'source': \"/Umer's CV.pdf\", 'file_path': \"/Umer's CV.pdf\", 'total_pages': 2, 'format': 'PDF 1.5', 'title': '', 'author': 'Dell laptop', 'subject': '', 'keywords': '', 'moddate': '2025-05-27T08:58:42-07:00', 'trapped': '', 'modDate': \"D:20250527085842-07'00'\", 'creationDate': \"D:20250527085842-07'00'\", 'page': 1}, page_content='was having APIs of hugging face and imported models over from there. Learned how to transform and'),\n",
              " Document(metadata={'producer': 'Microsoft® Word 2016', 'creator': 'Microsoft® Word 2016', 'creationdate': '2025-05-27T08:58:42-07:00', 'source': \"/Umer's CV.pdf\", 'file_path': \"/Umer's CV.pdf\", 'total_pages': 2, 'format': 'PDF 1.5', 'title': '', 'author': 'Dell laptop', 'subject': '', 'keywords': '', 'moddate': '2025-05-27T08:58:42-07:00', 'trapped': '', 'modDate': \"D:20250527085842-07'00'\", 'creationDate': \"D:20250527085842-07'00'\", 'page': 1}, page_content='this bot was'),\n",
              " Document(metadata={'producer': 'Microsoft® Word 2016', 'creator': 'Microsoft® Word 2016', 'creationdate': '2025-05-27T08:58:42-07:00', 'source': \"/Umer's CV.pdf\", 'file_path': \"/Umer's CV.pdf\", 'total_pages': 2, 'format': 'PDF 1.5', 'title': '', 'author': 'Dell laptop', 'subject': '', 'keywords': '', 'moddate': '2025-05-27T08:58:42-07:00', 'trapped': '', 'modDate': \"D:20250527085842-07'00'\", 'creationDate': \"D:20250527085842-07'00'\", 'page': 1}, page_content='translating the languages in French. \\n \\nBotpress Projects'),\n",
              " Document(metadata={'producer': 'Microsoft® Word 2016', 'creator': 'Microsoft® Word 2016', 'creationdate': '2025-05-27T08:58:42-07:00', 'source': \"/Umer's CV.pdf\", 'file_path': \"/Umer's CV.pdf\", 'total_pages': 2, 'format': 'PDF 1.5', 'title': '', 'author': 'Dell laptop', 'subject': '', 'keywords': '', 'moddate': '2025-05-27T08:58:42-07:00', 'trapped': '', 'modDate': \"D:20250527085842-07'00'\", 'creationDate': \"D:20250527085842-07'00'\", 'page': 1}, page_content='I used bot press to make chatbots for tourism company and one for a software house it was'),\n",
              " Document(metadata={'producer': 'Microsoft® Word 2016', 'creator': 'Microsoft® Word 2016', 'creationdate': '2025-05-27T08:58:42-07:00', 'source': \"/Umer's CV.pdf\", 'file_path': \"/Umer's CV.pdf\", 'total_pages': 2, 'format': 'PDF 1.5', 'title': '', 'author': 'Dell laptop', 'subject': '', 'keywords': '', 'moddate': '2025-05-27T08:58:42-07:00', 'trapped': '', 'modDate': \"D:20250527085842-07'00'\", 'creationDate': \"D:20250527085842-07'00'\", 'page': 1}, page_content='integrated'),\n",
              " Document(metadata={'producer': 'Microsoft® Word 2016', 'creator': 'Microsoft® Word 2016', 'creationdate': '2025-05-27T08:58:42-07:00', 'source': \"/Umer's CV.pdf\", 'file_path': \"/Umer's CV.pdf\", 'total_pages': 2, 'format': 'PDF 1.5', 'title': '', 'author': 'Dell laptop', 'subject': '', 'keywords': '', 'moddate': '2025-05-27T08:58:42-07:00', 'trapped': '', 'modDate': \"D:20250527085842-07'00'\", 'creationDate': \"D:20250527085842-07'00'\", 'page': 1}, page_content='on WhatsApp, Messenger and in that all the information, tasks were performed as bots do.'),\n",
              " Document(metadata={'producer': 'Microsoft® Word 2016', 'creator': 'Microsoft® Word 2016', 'creationdate': '2025-05-27T08:58:42-07:00', 'source': \"/Umer's CV.pdf\", 'file_path': \"/Umer's CV.pdf\", 'total_pages': 2, 'format': 'PDF 1.5', 'title': '', 'author': 'Dell laptop', 'subject': '', 'keywords': '', 'moddate': '2025-05-27T08:58:42-07:00', 'trapped': '', 'modDate': \"D:20250527085842-07'00'\", 'creationDate': \"D:20250527085842-07'00'\", 'page': 1}, page_content='Appointment booking bot was'),\n",
              " Document(metadata={'producer': 'Microsoft® Word 2016', 'creator': 'Microsoft® Word 2016', 'creationdate': '2025-05-27T08:58:42-07:00', 'source': \"/Umer's CV.pdf\", 'file_path': \"/Umer's CV.pdf\", 'total_pages': 2, 'format': 'PDF 1.5', 'title': '', 'author': 'Dell laptop', 'subject': '', 'keywords': '', 'moddate': '2025-05-27T08:58:42-07:00', 'trapped': '', 'modDate': \"D:20250527085842-07'00'\", 'creationDate': \"D:20250527085842-07'00'\", 'page': 1}, page_content='also integrated and was successfully booking the appointments using zappier.'),\n",
              " Document(metadata={'producer': 'Microsoft® Word 2016', 'creator': 'Microsoft® Word 2016', 'creationdate': '2025-05-27T08:58:42-07:00', 'source': \"/Umer's CV.pdf\", 'file_path': \"/Umer's CV.pdf\", 'total_pages': 2, 'format': 'PDF 1.5', 'title': '', 'author': 'Dell laptop', 'subject': '', 'keywords': '', 'moddate': '2025-05-27T08:58:42-07:00', 'trapped': '', 'modDate': \"D:20250527085842-07'00'\", 'creationDate': \"D:20250527085842-07'00'\", 'page': 1}, page_content='Breast Cancer Prediction Model'),\n",
              " Document(metadata={'producer': 'Microsoft® Word 2016', 'creator': 'Microsoft® Word 2016', 'creationdate': '2025-05-27T08:58:42-07:00', 'source': \"/Umer's CV.pdf\", 'file_path': \"/Umer's CV.pdf\", 'total_pages': 2, 'format': 'PDF 1.5', 'title': '', 'author': 'Dell laptop', 'subject': '', 'keywords': '', 'moddate': '2025-05-27T08:58:42-07:00', 'trapped': '', 'modDate': \"D:20250527085842-07'00'\", 'creationDate': \"D:20250527085842-07'00'\", 'page': 1}, page_content='Here I used python and its basic libraries which are as follow: Numpy Pandas'),\n",
              " Document(metadata={'producer': 'Microsoft® Word 2016', 'creator': 'Microsoft® Word 2016', 'creationdate': '2025-05-27T08:58:42-07:00', 'source': \"/Umer's CV.pdf\", 'file_path': \"/Umer's CV.pdf\", 'total_pages': 2, 'format': 'PDF 1.5', 'title': '', 'author': 'Dell laptop', 'subject': '', 'keywords': '', 'moddate': '2025-05-27T08:58:42-07:00', 'trapped': '', 'modDate': \"D:20250527085842-07'00'\", 'creationDate': \"D:20250527085842-07'00'\", 'page': 1}, page_content='Matplotlib Seaborn SKlearn forhaving KNeighborsClassifier. This model consist of prediction system'),\n",
              " Document(metadata={'producer': 'Microsoft® Word 2016', 'creator': 'Microsoft® Word 2016', 'creationdate': '2025-05-27T08:58:42-07:00', 'source': \"/Umer's CV.pdf\", 'file_path': \"/Umer's CV.pdf\", 'total_pages': 2, 'format': 'PDF 1.5', 'title': '', 'author': 'Dell laptop', 'subject': '', 'keywords': '', 'moddate': '2025-05-27T08:58:42-07:00', 'trapped': '', 'modDate': \"D:20250527085842-07'00'\", 'creationDate': \"D:20250527085842-07'00'\", 'page': 1}, page_content='using'),\n",
              " Document(metadata={'producer': 'Microsoft® Word 2016', 'creator': 'Microsoft® Word 2016', 'creationdate': '2025-05-27T08:58:42-07:00', 'source': \"/Umer's CV.pdf\", 'file_path': \"/Umer's CV.pdf\", 'total_pages': 2, 'format': 'PDF 1.5', 'title': '', 'author': 'Dell laptop', 'subject': '', 'keywords': '', 'moddate': '2025-05-27T08:58:42-07:00', 'trapped': '', 'modDate': \"D:20250527085842-07'00'\", 'creationDate': \"D:20250527085842-07'00'\", 'page': 1}, page_content='KNeighborsClassifier and we found that this model prediction score is more then 90%.'),\n",
              " Document(metadata={'producer': 'Microsoft® Word 2016', 'creator': 'Microsoft® Word 2016', 'creationdate': '2025-05-27T08:58:42-07:00', 'source': \"/Umer's CV.pdf\", 'file_path': \"/Umer's CV.pdf\", 'total_pages': 2, 'format': 'PDF 1.5', 'title': '', 'author': 'Dell laptop', 'subject': '', 'keywords': '', 'moddate': '2025-05-27T08:58:42-07:00', 'trapped': '', 'modDate': \"D:20250527085842-07'00'\", 'creationDate': \"D:20250527085842-07'00'\", 'page': 1}, page_content='Pima Indian Diabetes'),\n",
              " Document(metadata={'producer': 'Microsoft® Word 2016', 'creator': 'Microsoft® Word 2016', 'creationdate': '2025-05-27T08:58:42-07:00', 'source': \"/Umer's CV.pdf\", 'file_path': \"/Umer's CV.pdf\", 'total_pages': 2, 'format': 'PDF 1.5', 'title': '', 'author': 'Dell laptop', 'subject': '', 'keywords': '', 'moddate': '2025-05-27T08:58:42-07:00', 'trapped': '', 'modDate': \"D:20250527085842-07'00'\", 'creationDate': \"D:20250527085842-07'00'\", 'page': 1}, page_content='Here I used python and its basic libraries which are as follow: Numpy Pandas Matplotlib'),\n",
              " Document(metadata={'producer': 'Microsoft® Word 2016', 'creator': 'Microsoft® Word 2016', 'creationdate': '2025-05-27T08:58:42-07:00', 'source': \"/Umer's CV.pdf\", 'file_path': \"/Umer's CV.pdf\", 'total_pages': 2, 'format': 'PDF 1.5', 'title': '', 'author': 'Dell laptop', 'subject': '', 'keywords': '', 'moddate': '2025-05-27T08:58:42-07:00', 'trapped': '', 'modDate': \"D:20250527085842-07'00'\", 'creationDate': \"D:20250527085842-07'00'\", 'page': 1}, page_content='Seaborn SKlearn forhaving logistics regression model In this there are different cars and we have'),\n",
              " Document(metadata={'producer': 'Microsoft® Word 2016', 'creator': 'Microsoft® Word 2016', 'creationdate': '2025-05-27T08:58:42-07:00', 'source': \"/Umer's CV.pdf\", 'file_path': \"/Umer's CV.pdf\", 'total_pages': 2, 'format': 'PDF 1.5', 'title': '', 'author': 'Dell laptop', 'subject': '', 'keywords': '', 'moddate': '2025-05-27T08:58:42-07:00', 'trapped': '', 'modDate': \"D:20250527085842-07'00'\", 'creationDate': \"D:20250527085842-07'00'\", 'page': 1}, page_content='to found the'),\n",
              " Document(metadata={'producer': 'Microsoft® Word 2016', 'creator': 'Microsoft® Word 2016', 'creationdate': '2025-05-27T08:58:42-07:00', 'source': \"/Umer's CV.pdf\", 'file_path': \"/Umer's CV.pdf\", 'total_pages': 2, 'format': 'PDF 1.5', 'title': '', 'author': 'Dell laptop', 'subject': '', 'keywords': '', 'moddate': '2025-05-27T08:58:42-07:00', 'trapped': '', 'modDate': \"D:20250527085842-07'00'\", 'creationDate': \"D:20250527085842-07'00'\", 'page': 1}, page_content='logistics regression relation for those patients who are having diabetes. \\n \\n \\nLeadership'),\n",
              " Document(metadata={'producer': 'Microsoft® Word 2016', 'creator': 'Microsoft® Word 2016', 'creationdate': '2025-05-27T08:58:42-07:00', 'source': \"/Umer's CV.pdf\", 'file_path': \"/Umer's CV.pdf\", 'total_pages': 2, 'format': 'PDF 1.5', 'title': '', 'author': 'Dell laptop', 'subject': '', 'keywords': '', 'moddate': '2025-05-27T08:58:42-07:00', 'trapped': '', 'modDate': \"D:20250527085842-07'00'\", 'creationDate': \"D:20250527085842-07'00'\", 'page': 1}, page_content='Director of PNA | Quaid-e-Azam Debating Society June 2023 – Present'),\n",
              " Document(metadata={'producer': 'Microsoft® Word 2016', 'creator': 'Microsoft® Word 2016', 'creationdate': '2025-05-27T08:58:42-07:00', 'source': \"/Umer's CV.pdf\", 'file_path': \"/Umer's CV.pdf\", 'total_pages': 2, 'format': 'PDF 1.5', 'title': '', 'author': 'Dell laptop', 'subject': '', 'keywords': '', 'moddate': '2025-05-27T08:58:42-07:00', 'trapped': '', 'modDate': \"D:20250527085842-07'00'\", 'creationDate': \"D:20250527085842-07'00'\", 'page': 1}, page_content='\\uf0b7 Currently leading a team of 20+ people, organizing on campus and online workshops for students'),\n",
              " Document(metadata={'producer': 'Microsoft® Word 2016', 'creator': 'Microsoft® Word 2016', 'creationdate': '2025-05-27T08:58:42-07:00', 'source': \"/Umer's CV.pdf\", 'file_path': \"/Umer's CV.pdf\", 'total_pages': 2, 'format': 'PDF 1.5', 'title': '', 'author': 'Dell laptop', 'subject': '', 'keywords': '', 'moddate': '2025-05-27T08:58:42-07:00', 'trapped': '', 'modDate': \"D:20250527085842-07'00'\", 'creationDate': \"D:20250527085842-07'00'\", 'page': 1}, page_content='interested in debating\\uf020\\n\\uf0b7 Led Team Logistics and Event Management at Aatish APDC and MUN’2022-23\\uf020'),\n",
              " Document(metadata={'producer': 'Microsoft® Word 2016', 'creator': 'Microsoft® Word 2016', 'creationdate': '2025-05-27T08:58:42-07:00', 'source': \"/Umer's CV.pdf\", 'file_path': \"/Umer's CV.pdf\", 'total_pages': 2, 'format': 'PDF 1.5', 'title': '', 'author': 'Dell laptop', 'subject': '', 'keywords': '', 'moddate': '2025-05-27T08:58:42-07:00', 'trapped': '', 'modDate': \"D:20250527085842-07'00'\", 'creationDate': \"D:20250527085842-07'00'\", 'page': 1}, page_content='\\uf0b7 Organized 2 National Level Virtual British Parliamentary Debates Competitions\\uf020'),\n",
              " Document(metadata={'producer': 'Microsoft® Word 2016', 'creator': 'Microsoft® Word 2016', 'creationdate': '2025-05-27T08:58:42-07:00', 'source': \"/Umer's CV.pdf\", 'file_path': \"/Umer's CV.pdf\", 'total_pages': 2, 'format': 'PDF 1.5', 'title': '', 'author': 'Dell laptop', 'subject': '', 'keywords': '', 'moddate': '2025-05-27T08:58:42-07:00', 'trapped': '', 'modDate': \"D:20250527085842-07'00'\", 'creationDate': \"D:20250527085842-07'00'\", 'page': 1}, page_content='AWARDS & HONORS \\n\\uf0b7 \\nFinance Seceratary Quaid.e.Azam debating Society Uet Taxila (May 2024-2025)\\uf020\\n\\uf0b7'),\n",
              " Document(metadata={'producer': 'Microsoft® Word 2016', 'creator': 'Microsoft® Word 2016', 'creationdate': '2025-05-27T08:58:42-07:00', 'source': \"/Umer's CV.pdf\", 'file_path': \"/Umer's CV.pdf\", 'total_pages': 2, 'format': 'PDF 1.5', 'title': '', 'author': 'Dell laptop', 'subject': '', 'keywords': '', 'moddate': '2025-05-27T08:58:42-07:00', 'trapped': '', 'modDate': \"D:20250527085842-07'00'\", 'creationDate': \"D:20250527085842-07'00'\", 'page': 1}, page_content='Captain Uet Basketball Team (May 2024-2025)\\uf020\\n\\uf0b7'),\n",
              " Document(metadata={'producer': 'Microsoft® Word 2016', 'creator': 'Microsoft® Word 2016', 'creationdate': '2025-05-27T08:58:42-07:00', 'source': \"/Umer's CV.pdf\", 'file_path': \"/Umer's CV.pdf\", 'total_pages': 2, 'format': 'PDF 1.5', 'title': '', 'author': 'Dell laptop', 'subject': '', 'keywords': '', 'moddate': '2025-05-27T08:58:42-07:00', 'trapped': '', 'modDate': \"D:20250527085842-07'00'\", 'creationDate': \"D:20250527085842-07'00'\", 'page': 1}, page_content='Organizer at Vive la Liberte – Twin cities first ever parliamentary debates competition – 2022\\uf020'),\n",
              " Document(metadata={'producer': 'Microsoft® Word 2016', 'creator': 'Microsoft® Word 2016', 'creationdate': '2025-05-27T08:58:42-07:00', 'source': \"/Umer's CV.pdf\", 'file_path': \"/Umer's CV.pdf\", 'total_pages': 2, 'format': 'PDF 1.5', 'title': '', 'author': 'Dell laptop', 'subject': '', 'keywords': '', 'moddate': '2025-05-27T08:58:42-07:00', 'trapped': '', 'modDate': \"D:20250527085842-07'00'\", 'creationDate': \"D:20250527085842-07'00'\", 'page': 1}, page_content='\\uf0b7 Best Delegate Award – CASEMUN 22.\\uf020\\n\\uf0b7 Best Event Head at Aatish APDC and MUN’2022-23.\\uf020'),\n",
              " Document(metadata={'producer': 'Microsoft® Word 2016', 'creator': 'Microsoft® Word 2016', 'creationdate': '2025-05-27T08:58:42-07:00', 'source': \"/Umer's CV.pdf\", 'file_path': \"/Umer's CV.pdf\", 'total_pages': 2, 'format': 'PDF 1.5', 'title': '', 'author': 'Dell laptop', 'subject': '', 'keywords': '', 'moddate': '2025-05-27T08:58:42-07:00', 'trapped': '', 'modDate': \"D:20250527085842-07'00'\", 'creationDate': \"D:20250527085842-07'00'\", 'page': 1}, page_content='\\uf0b7 Host at Sports Week 2023.\\uf020\\n\\uf0b7 Finalist at UET Taxila Parliamentary debates.\\uf020'),\n",
              " Document(metadata={'producer': 'Microsoft® Word 2016', 'creator': 'Microsoft® Word 2016', 'creationdate': '2025-05-27T08:58:42-07:00', 'source': \"/Umer's CV.pdf\", 'file_path': \"/Umer's CV.pdf\", 'total_pages': 2, 'format': 'PDF 1.5', 'title': '', 'author': 'Dell laptop', 'subject': '', 'keywords': '', 'moddate': '2025-05-27T08:58:42-07:00', 'trapped': '', 'modDate': \"D:20250527085842-07'00'\", 'creationDate': \"D:20250527085842-07'00'\", 'page': 1}, page_content='\\uf0b7 Best sportsman of the year 2021-22 sports week UET Taxila.\\uf020')]"
            ]
          },
          "metadata": {},
          "execution_count": 135
        }
      ]
    },
    {
      "cell_type": "code",
      "source": [
        "docs=Chroma.from_documents(final_doc,embedding=HuggingFaceEmbeddings(model_name=\"sentence-transformers/all-mpnet-base-v2\"))"
      ],
      "metadata": {
        "collapsed": true,
        "id": "CR4YZamKel2P"
      },
      "execution_count": 136,
      "outputs": []
    },
    {
      "cell_type": "code",
      "source": [
        "docs"
      ],
      "metadata": {
        "colab": {
          "base_uri": "https://localhost:8080/"
        },
        "collapsed": true,
        "id": "0lfpOC7qgO4b",
        "outputId": "75110192-3c67-4e7f-bf80-a882ed9f661d"
      },
      "execution_count": 137,
      "outputs": [
        {
          "output_type": "execute_result",
          "data": {
            "text/plain": [
              "<langchain_community.vectorstores.chroma.Chroma at 0x7a4579186090>"
            ]
          },
          "metadata": {},
          "execution_count": 137
        }
      ]
    },
    {
      "cell_type": "code",
      "source": [
        "# query=\"What is the email of person\"\n",
        "# answer=docs.similarity_search(query)"
      ],
      "metadata": {
        "id": "QioAip99hBn3"
      },
      "execution_count": 138,
      "outputs": []
    },
    {
      "cell_type": "code",
      "source": [
        "# # Print top result\n",
        "# for i, doc in enumerate(answer):\n",
        "#     print(f\"Result {i+1}:\")\n",
        "#     print(doc.page_content)\n",
        "#     print()"
      ],
      "metadata": {
        "collapsed": true,
        "id": "6acnFYbThUzf"
      },
      "execution_count": 139,
      "outputs": []
    },
    {
      "cell_type": "code",
      "source": [
        "os.environ['HUGGINGFACEHUB_API_TOKEN'] = \"use_your_api_key\""
      ],
      "metadata": {
        "id": "_kNnHXTfk6Xs"
      },
      "execution_count": 140,
      "outputs": []
    },
    {
      "cell_type": "code",
      "source": [
        "from langchain_huggingface import HuggingFacePipeline\n",
        "from transformers import pipeline\n",
        "hf_pipeline = pipeline(\"text2text-generation\", model=\"google/flan-t5-base\", device=-1)  # Use device=0 for GPU\n",
        "llm = HuggingFacePipeline(\n",
        "    pipeline=hf_pipeline,\n",
        "    model_kwargs={\"temperature\": 0.2, \"max_length\": 512}\n",
        ")"
      ],
      "metadata": {
        "colab": {
          "base_uri": "https://localhost:8080/"
        },
        "id": "lb6hL1oRhirn",
        "outputId": "d688c5db-b4e4-476b-dee7-71335dfb8418"
      },
      "execution_count": 141,
      "outputs": [
        {
          "output_type": "stream",
          "name": "stderr",
          "text": [
            "Device set to use cpu\n"
          ]
        }
      ]
    },
    {
      "cell_type": "code",
      "source": [
        "from langchain.prompts import PromptTemplate\n",
        "prompt_template = \"\"\"\n",
        "You are an intelligent assistant that answers user questions based only on the provided PDF document content.\n",
        "Use only the context below to answer. Provide a precise and concise response, extracting exact details like proper names directly from the context.\n",
        "\n",
        "Example:\n",
        "Question: What is the name listed at the top of the CV?\n",
        "Context: John Doe\\nEmail: john.doe@example.com\n",
        "Answer: John Doe\n",
        "\n",
        "If the answer is not in the context, say: \"I'm sorry, the information you're asking for isn't available in the provided document.\"\n",
        "\n",
        "Context:\n",
        "--------------------\n",
        "{context}\n",
        "--------------------\n",
        "\n",
        "Question: {input}\n",
        "\"\"\"\n",
        "prompt = PromptTemplate(\n",
        "    input_variables=[\"context\", \"input\"],\n",
        "    template=prompt_template\n",
        ")"
      ],
      "metadata": {
        "id": "kqtf8BOek4gg"
      },
      "execution_count": 142,
      "outputs": []
    },
    {
      "cell_type": "code",
      "source": [
        "doc_chain=create_stuff_documents_chain(llm,prompt)"
      ],
      "metadata": {
        "id": "Yfwm6O8hl4-K"
      },
      "execution_count": 143,
      "outputs": []
    },
    {
      "cell_type": "code",
      "source": [
        "doc_chain"
      ],
      "metadata": {
        "colab": {
          "base_uri": "https://localhost:8080/"
        },
        "id": "3d5xhHdpmp26",
        "outputId": "1e627fff-1224-491f-d563-590cab72aa87"
      },
      "execution_count": 144,
      "outputs": [
        {
          "output_type": "execute_result",
          "data": {
            "text/plain": [
              "RunnableBinding(bound=RunnableBinding(bound=RunnableAssign(mapper={\n",
              "  context: RunnableLambda(format_docs)\n",
              "}), kwargs={}, config={'run_name': 'format_inputs'}, config_factories=[])\n",
              "| PromptTemplate(input_variables=['context', 'input'], input_types={}, partial_variables={}, template='\\nYou are an intelligent assistant that answers user questions based only on the provided PDF document content.\\nUse only the context below to answer. Provide a precise and concise response, extracting exact details like proper names directly from the context.\\n\\nExample:\\nQuestion: What is the name listed at the top of the CV?\\nContext: John Doe\\nEmail: john.doe@example.com\\nAnswer: John Doe\\n\\nIf the answer is not in the context, say: \"I\\'m sorry, the information you\\'re asking for isn\\'t available in the provided document.\"\\n\\nContext:\\n--------------------\\n{context}\\n--------------------\\n\\nQuestion: {input}\\n')\n",
              "| HuggingFacePipeline(pipeline=<transformers.pipelines.text2text_generation.Text2TextGenerationPipeline object at 0x7a4589d20690>, model_id='google/flan-t5-base', model_kwargs={'temperature': 0.2, 'max_length': 512})\n",
              "| StrOutputParser(), kwargs={}, config={'run_name': 'stuff_documents_chain'}, config_factories=[])"
            ]
          },
          "metadata": {},
          "execution_count": 144
        }
      ]
    },
    {
      "cell_type": "code",
      "source": [
        "retriever=docs.as_retriever()"
      ],
      "metadata": {
        "id": "A8q0RP_TmrZs"
      },
      "execution_count": 145,
      "outputs": []
    },
    {
      "cell_type": "code",
      "source": [
        "retrieval_chain = create_retrieval_chain(retriever=retriever, combine_docs_chain=doc_chain)"
      ],
      "metadata": {
        "id": "u6j36pG_rdC7"
      },
      "execution_count": 146,
      "outputs": []
    },
    {
      "cell_type": "code",
      "source": [
        "Retrieval_chain=create_retrieval_chain(retriever,doc_chain)"
      ],
      "metadata": {
        "id": "o0K3Fkctm07S"
      },
      "execution_count": 147,
      "outputs": []
    },
    {
      "cell_type": "code",
      "source": [
        "Retrieval_chain"
      ],
      "metadata": {
        "colab": {
          "base_uri": "https://localhost:8080/"
        },
        "id": "OiGLCy_4nPv1",
        "outputId": "1c709133-dc91-4980-f6e0-6c1d773ec319"
      },
      "execution_count": 148,
      "outputs": [
        {
          "output_type": "execute_result",
          "data": {
            "text/plain": [
              "RunnableBinding(bound=RunnableAssign(mapper={\n",
              "  context: RunnableBinding(bound=RunnableLambda(lambda x: x['input'])\n",
              "           | VectorStoreRetriever(tags=['Chroma', 'HuggingFaceEmbeddings'], vectorstore=<langchain_community.vectorstores.chroma.Chroma object at 0x7a4579186090>, search_kwargs={}), kwargs={}, config={'run_name': 'retrieve_documents'}, config_factories=[])\n",
              "})\n",
              "| RunnableAssign(mapper={\n",
              "    answer: RunnableBinding(bound=RunnableBinding(bound=RunnableAssign(mapper={\n",
              "              context: RunnableLambda(format_docs)\n",
              "            }), kwargs={}, config={'run_name': 'format_inputs'}, config_factories=[])\n",
              "            | PromptTemplate(input_variables=['context', 'input'], input_types={}, partial_variables={}, template='\\nYou are an intelligent assistant that answers user questions based only on the provided PDF document content.\\nUse only the context below to answer. Provide a precise and concise response, extracting exact details like proper names directly from the context.\\n\\nExample:\\nQuestion: What is the name listed at the top of the CV?\\nContext: John Doe\\nEmail: john.doe@example.com\\nAnswer: John Doe\\n\\nIf the answer is not in the context, say: \"I\\'m sorry, the information you\\'re asking for isn\\'t available in the provided document.\"\\n\\nContext:\\n--------------------\\n{context}\\n--------------------\\n\\nQuestion: {input}\\n')\n",
              "            | HuggingFacePipeline(pipeline=<transformers.pipelines.text2text_generation.Text2TextGenerationPipeline object at 0x7a4589d20690>, model_id='google/flan-t5-base', model_kwargs={'temperature': 0.2, 'max_length': 512})\n",
              "            | StrOutputParser(), kwargs={}, config={'run_name': 'stuff_documents_chain'}, config_factories=[])\n",
              "  }), kwargs={}, config={'run_name': 'retrieval_chain'}, config_factories=[])"
            ]
          },
          "metadata": {},
          "execution_count": 148
        }
      ]
    },
    {
      "cell_type": "code",
      "source": [
        "retrieval_chain.invoke({\"input\":\"What is the email of person\"})"
      ],
      "metadata": {
        "colab": {
          "base_uri": "https://localhost:8080/"
        },
        "id": "Y8yJiqb9sRbs",
        "outputId": "9d629ae0-150e-4721-925c-a75108db5bb2"
      },
      "execution_count": 149,
      "outputs": [
        {
          "output_type": "execute_result",
          "data": {
            "text/plain": [
              "{'input': 'What is the email of person',\n",
              " 'context': [Document(metadata={'title': '', 'trapped': '', 'format': 'PDF 1.5', 'producer': 'Microsoft® Word 2016', 'total_pages': 2, 'author': 'Dell laptop', 'creationdate': '2025-05-27T08:58:42-07:00', 'keywords': '', 'source': \"/Umer's CV.pdf\", 'modDate': \"D:20250527085842-07'00'\", 'subject': '', 'moddate': '2025-05-27T08:58:42-07:00', 'creator': 'Microsoft® Word 2016', 'page': 0, 'creationDate': \"D:20250527085842-07'00'\", 'file_path': \"/Umer's CV.pdf\"}, page_content='Umer Abbasi \\nabbasiumer658@gmail.com |+923460797406'),\n",
              "  Document(metadata={'producer': 'Microsoft® Word 2016', 'author': 'Dell laptop', 'moddate': '2025-05-27T08:58:42-07:00', 'creator': 'Microsoft® Word 2016', 'creationdate': '2025-05-27T08:58:42-07:00', 'source': \"/Umer's CV.pdf\", 'page': 0, 'title': '', 'total_pages': 2, 'trapped': '', 'modDate': \"D:20250527085842-07'00'\", 'creationDate': \"D:20250527085842-07'00'\", 'subject': '', 'format': 'PDF 1.5', 'file_path': \"/Umer's CV.pdf\", 'keywords': ''}, page_content='Umer Abbasi \\nabbasiumer658@gmail.com |+923460797406'),\n",
              "  Document(metadata={'moddate': '2025-05-27T08:58:42-07:00', 'format': 'PDF 1.5', 'title': '', 'trapped': '', 'file_path': \"/Umer's CV.pdf\", 'source': \"/Umer's CV.pdf\", 'creationdate': '2025-05-27T08:58:42-07:00', 'author': 'Dell laptop', 'subject': '', 'modDate': \"D:20250527085842-07'00'\", 'page': 0, 'keywords': '', 'creationDate': \"D:20250527085842-07'00'\", 'creator': 'Microsoft® Word 2016', 'total_pages': 2, 'producer': 'Microsoft® Word 2016'}, page_content='Umer Abbasi \\nabbasiumer658@gmail.com |+923460797406'),\n",
              "  Document(metadata={'file_path': \"/Umer's CV.pdf\", 'page': 1, 'subject': '', 'total_pages': 2, 'title': '', 'moddate': '2025-05-27T08:58:42-07:00', 'creationdate': '2025-05-27T08:58:42-07:00', 'creationDate': \"D:20250527085842-07'00'\", 'producer': 'Microsoft® Word 2016', 'author': 'Dell laptop', 'keywords': '', 'modDate': \"D:20250527085842-07'00'\", 'creator': 'Microsoft® Word 2016', 'source': \"/Umer's CV.pdf\", 'trapped': '', 'format': 'PDF 1.5'}, page_content='on WhatsApp, Messenger and in that all the information, tasks were performed as bots do.')],\n",
              " 'answer': 'Umer Abbasi abbasiumer658@gmail.com |+923460797406'}"
            ]
          },
          "metadata": {},
          "execution_count": 149
        }
      ]
    },
    {
      "cell_type": "code",
      "source": [
        "# Interactive query loop\n",
        "while True:\n",
        "    try:\n",
        "        question = input(\"Enter your question (or type 'quit' to exit): \").strip()\n",
        "        if question.lower() == \"quit\":\n",
        "            print(\"Exiting...\")\n",
        "            break\n",
        "        if not question:\n",
        "            print(\"Error: Question cannot be empty. Please try again.\")\n",
        "            continue\n",
        "        result = retrieval_chain.invoke({\"input\": question})\n",
        "        print(\"Answer:\", result[\"answer\"])\n",
        "    except Exception as e:\n",
        "        print(f\"Error: {e}\")"
      ],
      "metadata": {
        "colab": {
          "base_uri": "https://localhost:8080/",
          "height": 574
        },
        "collapsed": true,
        "id": "7C9F1jVYyiE7",
        "outputId": "59e7eef9-aeb2-4203-ecde-0e0a1d4ad72b"
      },
      "execution_count": 128,
      "outputs": [
        {
          "output_type": "stream",
          "name": "stdout",
          "text": [
            "Enter your question (or type 'quit' to exit): what is the experience\n",
            "Answer: Gained Hands-on experience about data analysis techniques, exploratory data analysis, dealing Experience Artificial Intelligence Development Intern | Octaloop Technologies 8 weeks\n",
            "Enter your question (or type 'quit' to exit): ve Bytes internship | AI/ML \n",
            "Answer: Octaloop Technologies\n",
            "Enter your question (or type 'quit' to exit): discuss Prodigy InfoTech Intern | Data Science\n",
            "Answer: Yes, I'd like to talk about Prodigy InfoTech Intern | Data Science Feb 2023 – March 2023. -----------------\n",
            "Enter your question (or type 'quit' to exit): give all  AWARDS & HONORS\n",
            "Answer:    Finance Seceratary Quaid.e.Azam debating Society Uet Taxila (May 2024-2025)   Best Delegate Award – CASEMUN 22.  Best Event Head at Aatish APDC and MUN’2022-23.  Best Delegate Award – CASEMUN 22.  Best Event Head at Aatish APDC and MUN’2022-23.  Best Delegate Award – CASEMUN 22.  Best Event Head at Aatish APDC and MUN’2022-23.\n",
            "Enter your question (or type 'quit' to exit): give all technical skills\n",
            "Answer: yes. -----------------\n"
          ]
        },
        {
          "output_type": "error",
          "ename": "KeyboardInterrupt",
          "evalue": "Interrupted by user",
          "traceback": [
            "\u001b[0;31m---------------------------------------------------------------------------\u001b[0m",
            "\u001b[0;31mKeyboardInterrupt\u001b[0m                         Traceback (most recent call last)",
            "\u001b[0;32m<ipython-input-128-6d99af0a6371>\u001b[0m in \u001b[0;36m<cell line: 0>\u001b[0;34m()\u001b[0m\n\u001b[1;32m      2\u001b[0m \u001b[0;32mwhile\u001b[0m \u001b[0;32mTrue\u001b[0m\u001b[0;34m:\u001b[0m\u001b[0;34m\u001b[0m\u001b[0;34m\u001b[0m\u001b[0m\n\u001b[1;32m      3\u001b[0m     \u001b[0;32mtry\u001b[0m\u001b[0;34m:\u001b[0m\u001b[0;34m\u001b[0m\u001b[0;34m\u001b[0m\u001b[0m\n\u001b[0;32m----> 4\u001b[0;31m         \u001b[0mquestion\u001b[0m \u001b[0;34m=\u001b[0m \u001b[0minput\u001b[0m\u001b[0;34m(\u001b[0m\u001b[0;34m\"Enter your question (or type 'quit' to exit): \"\u001b[0m\u001b[0;34m)\u001b[0m\u001b[0;34m.\u001b[0m\u001b[0mstrip\u001b[0m\u001b[0;34m(\u001b[0m\u001b[0;34m)\u001b[0m\u001b[0;34m\u001b[0m\u001b[0;34m\u001b[0m\u001b[0m\n\u001b[0m\u001b[1;32m      5\u001b[0m         \u001b[0;32mif\u001b[0m \u001b[0mquestion\u001b[0m\u001b[0;34m.\u001b[0m\u001b[0mlower\u001b[0m\u001b[0;34m(\u001b[0m\u001b[0;34m)\u001b[0m \u001b[0;34m==\u001b[0m \u001b[0;34m\"quit\"\u001b[0m\u001b[0;34m:\u001b[0m\u001b[0;34m\u001b[0m\u001b[0;34m\u001b[0m\u001b[0m\n\u001b[1;32m      6\u001b[0m             \u001b[0mprint\u001b[0m\u001b[0;34m(\u001b[0m\u001b[0;34m\"Exiting...\"\u001b[0m\u001b[0;34m)\u001b[0m\u001b[0;34m\u001b[0m\u001b[0;34m\u001b[0m\u001b[0m\n",
            "\u001b[0;32m/usr/local/lib/python3.11/dist-packages/ipykernel/kernelbase.py\u001b[0m in \u001b[0;36mraw_input\u001b[0;34m(self, prompt)\u001b[0m\n\u001b[1;32m   1175\u001b[0m                 \u001b[0;34m\"raw_input was called, but this frontend does not support input requests.\"\u001b[0m\u001b[0;34m\u001b[0m\u001b[0;34m\u001b[0m\u001b[0m\n\u001b[1;32m   1176\u001b[0m             )\n\u001b[0;32m-> 1177\u001b[0;31m         return self._input_request(\n\u001b[0m\u001b[1;32m   1178\u001b[0m             \u001b[0mstr\u001b[0m\u001b[0;34m(\u001b[0m\u001b[0mprompt\u001b[0m\u001b[0;34m)\u001b[0m\u001b[0;34m,\u001b[0m\u001b[0;34m\u001b[0m\u001b[0;34m\u001b[0m\u001b[0m\n\u001b[1;32m   1179\u001b[0m             \u001b[0mself\u001b[0m\u001b[0;34m.\u001b[0m\u001b[0m_parent_ident\u001b[0m\u001b[0;34m[\u001b[0m\u001b[0;34m\"shell\"\u001b[0m\u001b[0;34m]\u001b[0m\u001b[0;34m,\u001b[0m\u001b[0;34m\u001b[0m\u001b[0;34m\u001b[0m\u001b[0m\n",
            "\u001b[0;32m/usr/local/lib/python3.11/dist-packages/ipykernel/kernelbase.py\u001b[0m in \u001b[0;36m_input_request\u001b[0;34m(self, prompt, ident, parent, password)\u001b[0m\n\u001b[1;32m   1217\u001b[0m             \u001b[0;32mexcept\u001b[0m \u001b[0mKeyboardInterrupt\u001b[0m\u001b[0;34m:\u001b[0m\u001b[0;34m\u001b[0m\u001b[0;34m\u001b[0m\u001b[0m\n\u001b[1;32m   1218\u001b[0m                 \u001b[0;31m# re-raise KeyboardInterrupt, to truncate traceback\u001b[0m\u001b[0;34m\u001b[0m\u001b[0;34m\u001b[0m\u001b[0m\n\u001b[0;32m-> 1219\u001b[0;31m                 \u001b[0;32mraise\u001b[0m \u001b[0mKeyboardInterrupt\u001b[0m\u001b[0;34m(\u001b[0m\u001b[0;34m\"Interrupted by user\"\u001b[0m\u001b[0;34m)\u001b[0m \u001b[0;32mfrom\u001b[0m \u001b[0;32mNone\u001b[0m\u001b[0;34m\u001b[0m\u001b[0;34m\u001b[0m\u001b[0m\n\u001b[0m\u001b[1;32m   1220\u001b[0m             \u001b[0;32mexcept\u001b[0m \u001b[0mException\u001b[0m\u001b[0;34m:\u001b[0m\u001b[0;34m\u001b[0m\u001b[0;34m\u001b[0m\u001b[0m\n\u001b[1;32m   1221\u001b[0m                 \u001b[0mself\u001b[0m\u001b[0;34m.\u001b[0m\u001b[0mlog\u001b[0m\u001b[0;34m.\u001b[0m\u001b[0mwarning\u001b[0m\u001b[0;34m(\u001b[0m\u001b[0;34m\"Invalid Message:\"\u001b[0m\u001b[0;34m,\u001b[0m \u001b[0mexc_info\u001b[0m\u001b[0;34m=\u001b[0m\u001b[0;32mTrue\u001b[0m\u001b[0;34m)\u001b[0m\u001b[0;34m\u001b[0m\u001b[0;34m\u001b[0m\u001b[0m\n",
            "\u001b[0;31mKeyboardInterrupt\u001b[0m: Interrupted by user"
          ]
        }
      ]
    },
    {
      "cell_type": "code",
      "source": [
        "try:\n",
        "    question = \"What are his skills ?\"  # Your question\n",
        "    if not question.strip():\n",
        "        raise ValueError(\"Input question cannot be empty\")\n",
        "    result = retrieval_chain.invoke({\"input\": question})\n",
        "    print(result[\"answer\"])\n",
        "except Exception as e:\n",
        "    print(f\"Error: {e}\")"
      ],
      "metadata": {
        "colab": {
          "base_uri": "https://localhost:8080/"
        },
        "id": "gQ4hq7benZiY",
        "outputId": "dc6d0bd4-cb24-48d5-e621-3ff8f21a0e16"
      },
      "execution_count": 111,
      "outputs": [
        {
          "output_type": "stream",
          "name": "stdout",
          "text": [
            "Public Speaking, Communication, Event Management, Social Media Handling\n"
          ]
        }
      ]
    },
    {
      "cell_type": "code",
      "source": [],
      "metadata": {
        "id": "XjsLshF3nzn2"
      },
      "execution_count": null,
      "outputs": []
    }
  ]
}